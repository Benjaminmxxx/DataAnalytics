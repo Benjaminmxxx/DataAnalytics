{
 "cells": [
  {
   "cell_type": "code",
   "execution_count": null,
   "metadata": {},
   "outputs": [],
   "source": [
    "pip install yfinance"
   ]
  },
  {
   "cell_type": "code",
   "execution_count": 2,
   "metadata": {},
   "outputs": [],
   "source": [
    "import pandas as pd\n",
    "import requests\n",
    "from pycoingecko import CoinGeckoAPI\n",
    "from pprint import pprint\n",
    "from binance import Client\n",
    "from datetime import datetime\n",
    "import yfinance as yf"
   ]
  },
  {
   "cell_type": "code",
   "execution_count": 3,
   "metadata": {},
   "outputs": [],
   "source": [
    "cg = CoinGeckoAPI()\n",
    "client = Client()"
   ]
  },
  {
   "cell_type": "markdown",
   "metadata": {},
   "source": [
    "Se decide hacer un análisis sobre la categoría Capa 1 (L1) de criptomonedas por su capitalización de mercado."
   ]
  },
  {
   "cell_type": "markdown",
   "metadata": {},
   "source": [
    "Categorías de Interes"
   ]
  },
  {
   "cell_type": "code",
   "execution_count": 4,
   "metadata": {},
   "outputs": [],
   "source": [
    "Categorias=['Layer 1 (L1)']"
   ]
  },
  {
   "cell_type": "code",
   "execution_count": 5,
   "metadata": {},
   "outputs": [
    {
     "data": {
      "text/html": [
       "<div>\n",
       "<style scoped>\n",
       "    .dataframe tbody tr th:only-of-type {\n",
       "        vertical-align: middle;\n",
       "    }\n",
       "\n",
       "    .dataframe tbody tr th {\n",
       "        vertical-align: top;\n",
       "    }\n",
       "\n",
       "    .dataframe thead th {\n",
       "        text-align: right;\n",
       "    }\n",
       "</style>\n",
       "<table border=\"1\" class=\"dataframe\">\n",
       "  <thead>\n",
       "    <tr style=\"text-align: right;\">\n",
       "      <th></th>\n",
       "      <th>category_id</th>\n",
       "      <th>name</th>\n",
       "    </tr>\n",
       "  </thead>\n",
       "  <tbody>\n",
       "    <tr>\n",
       "      <th>105</th>\n",
       "      <td>layer-1</td>\n",
       "      <td>Layer 1 (L1)</td>\n",
       "    </tr>\n",
       "  </tbody>\n",
       "</table>\n",
       "</div>"
      ],
      "text/plain": [
       "    category_id          name\n",
       "105     layer-1  Layer 1 (L1)"
      ]
     },
     "execution_count": 5,
     "metadata": {},
     "output_type": "execute_result"
    }
   ],
   "source": [
    "#Lista de todas las categorías\n",
    "categoria=pd.DataFrame(cg.get_coins_categories_list())\n",
    "categoria[categoria['name'].isin(Categorias)]"
   ]
  },
  {
   "cell_type": "code",
   "execution_count": 6,
   "metadata": {},
   "outputs": [
    {
     "data": {
      "text/html": [
       "<div>\n",
       "<style scoped>\n",
       "    .dataframe tbody tr th:only-of-type {\n",
       "        vertical-align: middle;\n",
       "    }\n",
       "\n",
       "    .dataframe tbody tr th {\n",
       "        vertical-align: top;\n",
       "    }\n",
       "\n",
       "    .dataframe thead th {\n",
       "        text-align: right;\n",
       "    }\n",
       "</style>\n",
       "<table border=\"1\" class=\"dataframe\">\n",
       "  <thead>\n",
       "    <tr style=\"text-align: right;\">\n",
       "      <th></th>\n",
       "      <th>id</th>\n",
       "      <th>name</th>\n",
       "      <th>market_cap</th>\n",
       "      <th>market_cap_change_24h</th>\n",
       "      <th>content</th>\n",
       "      <th>top_3_coins</th>\n",
       "      <th>volume_24h</th>\n",
       "      <th>updated_at</th>\n",
       "    </tr>\n",
       "  </thead>\n",
       "  <tbody>\n",
       "    <tr>\n",
       "      <th>114</th>\n",
       "      <td>layer-1</td>\n",
       "      <td>Layer 1 (L1)</td>\n",
       "      <td>7.903085e+11</td>\n",
       "      <td>-1.230963</td>\n",
       "      <td></td>\n",
       "      <td>[https://assets.coingecko.com/coins/images/1/s...</td>\n",
       "      <td>2.097109e+10</td>\n",
       "      <td>2023-08-25T01:40:19.396Z</td>\n",
       "    </tr>\n",
       "    <tr>\n",
       "      <th>113</th>\n",
       "      <td>smart-contract-platform</td>\n",
       "      <td>Smart Contract Platform</td>\n",
       "      <td>3.053585e+11</td>\n",
       "      <td>-1.332824</td>\n",
       "      <td>Smart contract platforms are usually blockchai...</td>\n",
       "      <td>[https://assets.coingecko.com/coins/images/279...</td>\n",
       "      <td>1.031964e+10</td>\n",
       "      <td>2023-08-25T01:40:05.125Z</td>\n",
       "    </tr>\n",
       "    <tr>\n",
       "      <th>112</th>\n",
       "      <td>stablecoins</td>\n",
       "      <td>Stablecoins</td>\n",
       "      <td>1.240874e+11</td>\n",
       "      <td>0.071245</td>\n",
       "      <td></td>\n",
       "      <td>[https://assets.coingecko.com/coins/images/325...</td>\n",
       "      <td>2.403005e+10</td>\n",
       "      <td>2023-08-25T01:40:04.850Z</td>\n",
       "    </tr>\n",
       "    <tr>\n",
       "      <th>111</th>\n",
       "      <td>alleged-sec-securities</td>\n",
       "      <td>Alleged SEC Securities</td>\n",
       "      <td>8.271318e+10</td>\n",
       "      <td>-1.004503</td>\n",
       "      <td>Tokens and cryptocurrencies alleged to be secu...</td>\n",
       "      <td>[https://assets.coingecko.com/coins/images/825...</td>\n",
       "      <td>3.486695e+09</td>\n",
       "      <td>2023-08-25T01:40:03.116Z</td>\n",
       "    </tr>\n",
       "    <tr>\n",
       "      <th>110</th>\n",
       "      <td>exchange-based-tokens</td>\n",
       "      <td>Exchange-based Tokens</td>\n",
       "      <td>5.298405e+10</td>\n",
       "      <td>-0.405979</td>\n",
       "      <td>These tokens are normally associated with both...</td>\n",
       "      <td>[https://assets.coingecko.com/coins/images/825...</td>\n",
       "      <td>9.326706e+08</td>\n",
       "      <td>2023-08-25T01:40:06.809Z</td>\n",
       "    </tr>\n",
       "  </tbody>\n",
       "</table>\n",
       "</div>"
      ],
      "text/plain": [
       "                          id                     name    market_cap  \\\n",
       "114                  layer-1             Layer 1 (L1)  7.903085e+11   \n",
       "113  smart-contract-platform  Smart Contract Platform  3.053585e+11   \n",
       "112              stablecoins              Stablecoins  1.240874e+11   \n",
       "111   alleged-sec-securities   Alleged SEC Securities  8.271318e+10   \n",
       "110    exchange-based-tokens    Exchange-based Tokens  5.298405e+10   \n",
       "\n",
       "     market_cap_change_24h                                            content  \\\n",
       "114              -1.230963                                                      \n",
       "113              -1.332824  Smart contract platforms are usually blockchai...   \n",
       "112               0.071245                                                      \n",
       "111              -1.004503  Tokens and cryptocurrencies alleged to be secu...   \n",
       "110              -0.405979  These tokens are normally associated with both...   \n",
       "\n",
       "                                           top_3_coins    volume_24h  \\\n",
       "114  [https://assets.coingecko.com/coins/images/1/s...  2.097109e+10   \n",
       "113  [https://assets.coingecko.com/coins/images/279...  1.031964e+10   \n",
       "112  [https://assets.coingecko.com/coins/images/325...  2.403005e+10   \n",
       "111  [https://assets.coingecko.com/coins/images/825...  3.486695e+09   \n",
       "110  [https://assets.coingecko.com/coins/images/825...  9.326706e+08   \n",
       "\n",
       "                   updated_at  \n",
       "114  2023-08-25T01:40:19.396Z  \n",
       "113  2023-08-25T01:40:05.125Z  \n",
       "112  2023-08-25T01:40:04.850Z  \n",
       "111  2023-08-25T01:40:03.116Z  \n",
       "110  2023-08-25T01:40:06.809Z  "
      ]
     },
     "execution_count": 6,
     "metadata": {},
     "output_type": "execute_result"
    }
   ],
   "source": [
    "#Lista de todas las categorías con datos de mercado\n",
    "datos_merc_ct=pd.DataFrame(cg.get_coins_categories(order='market_cap_asc'))\n",
    "datos_merc_ct=datos_merc_ct.sort_values(by='market_cap',ascending=False).dropna(subset='market_cap')\n",
    "datos_merc_ct.head()"
   ]
  },
  {
   "cell_type": "code",
   "execution_count": 7,
   "metadata": {},
   "outputs": [],
   "source": [
    "def get_coin_list():\n",
    "    return cg.get_coins_list()"
   ]
  },
  {
   "cell_type": "code",
   "execution_count": 8,
   "metadata": {},
   "outputs": [],
   "source": [
    "df1=get_coin_list()\n",
    "df1=pd.DataFrame(df1)"
   ]
  },
  {
   "cell_type": "code",
   "execution_count": 9,
   "metadata": {},
   "outputs": [
    {
     "data": {
      "text/html": [
       "<div>\n",
       "<style scoped>\n",
       "    .dataframe tbody tr th:only-of-type {\n",
       "        vertical-align: middle;\n",
       "    }\n",
       "\n",
       "    .dataframe tbody tr th {\n",
       "        vertical-align: top;\n",
       "    }\n",
       "\n",
       "    .dataframe thead th {\n",
       "        text-align: right;\n",
       "    }\n",
       "</style>\n",
       "<table border=\"1\" class=\"dataframe\">\n",
       "  <thead>\n",
       "    <tr style=\"text-align: right;\">\n",
       "      <th></th>\n",
       "      <th>id</th>\n",
       "      <th>symbol</th>\n",
       "      <th>name</th>\n",
       "    </tr>\n",
       "  </thead>\n",
       "  <tbody>\n",
       "    <tr>\n",
       "      <th>1474</th>\n",
       "      <td>bridged-trueusd</td>\n",
       "      <td>tusd</td>\n",
       "      <td>Bridged TrueUSD</td>\n",
       "    </tr>\n",
       "    <tr>\n",
       "      <th>9023</th>\n",
       "      <td>true-usd</td>\n",
       "      <td>tusd</td>\n",
       "      <td>TrueUSD</td>\n",
       "    </tr>\n",
       "  </tbody>\n",
       "</table>\n",
       "</div>"
      ],
      "text/plain": [
       "                   id symbol             name\n",
       "1474  bridged-trueusd   tusd  Bridged TrueUSD\n",
       "9023         true-usd   tusd          TrueUSD"
      ]
     },
     "execution_count": 9,
     "metadata": {},
     "output_type": "execute_result"
    }
   ],
   "source": [
    "#crypto_symbol=['btc','eth','bnb','ada','sol','usdt','usdc','dai','busd','tusd']\n",
    "df1[df1['name'].str.contains('TrueUS', case=False)]\n"
   ]
  },
  {
   "cell_type": "markdown",
   "metadata": {},
   "source": [
    "Criptomonedas seleccionadas para el análisis."
   ]
  },
  {
   "cell_type": "code",
   "execution_count": 10,
   "metadata": {},
   "outputs": [
    {
     "data": {
      "text/html": [
       "<div>\n",
       "<style scoped>\n",
       "    .dataframe tbody tr th:only-of-type {\n",
       "        vertical-align: middle;\n",
       "    }\n",
       "\n",
       "    .dataframe tbody tr th {\n",
       "        vertical-align: top;\n",
       "    }\n",
       "\n",
       "    .dataframe thead th {\n",
       "        text-align: right;\n",
       "    }\n",
       "</style>\n",
       "<table border=\"1\" class=\"dataframe\">\n",
       "  <thead>\n",
       "    <tr style=\"text-align: right;\">\n",
       "      <th></th>\n",
       "      <th>id</th>\n",
       "      <th>symbol</th>\n",
       "      <th>name</th>\n",
       "    </tr>\n",
       "  </thead>\n",
       "  <tbody>\n",
       "    <tr>\n",
       "      <th>783</th>\n",
       "      <td>avalanche-2</td>\n",
       "      <td>avax</td>\n",
       "      <td>Avalanche</td>\n",
       "    </tr>\n",
       "    <tr>\n",
       "      <th>1108</th>\n",
       "      <td>binancecoin</td>\n",
       "      <td>bnb</td>\n",
       "      <td>BNB</td>\n",
       "    </tr>\n",
       "    <tr>\n",
       "      <th>1163</th>\n",
       "      <td>bitcoin</td>\n",
       "      <td>btc</td>\n",
       "      <td>Bitcoin</td>\n",
       "    </tr>\n",
       "    <tr>\n",
       "      <th>1172</th>\n",
       "      <td>bitcoin-cash</td>\n",
       "      <td>bch</td>\n",
       "      <td>Bitcoin Cash</td>\n",
       "    </tr>\n",
       "    <tr>\n",
       "      <th>1636</th>\n",
       "      <td>cardano</td>\n",
       "      <td>ada</td>\n",
       "      <td>Cardano</td>\n",
       "    </tr>\n",
       "    <tr>\n",
       "      <th>2083</th>\n",
       "      <td>cosmos</td>\n",
       "      <td>atom</td>\n",
       "      <td>Cosmos Hub</td>\n",
       "    </tr>\n",
       "    <tr>\n",
       "      <th>3119</th>\n",
       "      <td>ethereum</td>\n",
       "      <td>eth</td>\n",
       "      <td>Ethereum</td>\n",
       "    </tr>\n",
       "    <tr>\n",
       "      <th>4054</th>\n",
       "      <td>hedera-hashgraph</td>\n",
       "      <td>hbar</td>\n",
       "      <td>Hedera</td>\n",
       "    </tr>\n",
       "    <tr>\n",
       "      <th>6959</th>\n",
       "      <td>polkadot</td>\n",
       "      <td>dot</td>\n",
       "      <td>Polkadot</td>\n",
       "    </tr>\n",
       "    <tr>\n",
       "      <th>8082</th>\n",
       "      <td>solana</td>\n",
       "      <td>sol</td>\n",
       "      <td>Solana</td>\n",
       "    </tr>\n",
       "  </tbody>\n",
       "</table>\n",
       "</div>"
      ],
      "text/plain": [
       "                    id symbol          name\n",
       "783        avalanche-2   avax     Avalanche\n",
       "1108       binancecoin    bnb           BNB\n",
       "1163           bitcoin    btc       Bitcoin\n",
       "1172      bitcoin-cash    bch  Bitcoin Cash\n",
       "1636           cardano    ada       Cardano\n",
       "2083            cosmos   atom    Cosmos Hub\n",
       "3119          ethereum    eth      Ethereum\n",
       "4054  hedera-hashgraph   hbar        Hedera\n",
       "6959          polkadot    dot      Polkadot\n",
       "8082            solana    sol        Solana"
      ]
     },
     "execution_count": 10,
     "metadata": {},
     "output_type": "execute_result"
    }
   ],
   "source": [
    "criptos_order=['Bitcoin','Ethereum','BNB','Cardano','Solana','Polkadot','Bitcoin Cash','Avalanche',\n",
    "               'Cosmos Hub','Hedera']\n",
    "criptos = df1[df1['name'].isin(criptos_order)]\n",
    "criptos"
   ]
  },
  {
   "cell_type": "code",
   "execution_count": 11,
   "metadata": {},
   "outputs": [
    {
     "data": {
      "text/plain": [
       "783     avax\n",
       "1108     bnb\n",
       "1163     btc\n",
       "1172     bch\n",
       "1636     ada\n",
       "2083    atom\n",
       "3119     eth\n",
       "4054    hbar\n",
       "6959     dot\n",
       "8082     sol\n",
       "Name: symbol, dtype: object"
      ]
     },
     "execution_count": 11,
     "metadata": {},
     "output_type": "execute_result"
    }
   ],
   "source": [
    "criptos['symbol']"
   ]
  },
  {
   "cell_type": "markdown",
   "metadata": {},
   "source": [
    "### Generando Datos para las diferentes Criptos Seleccionadas:"
   ]
  },
  {
   "cell_type": "markdown",
   "metadata": {},
   "source": [
    "Obtenga datos de mercado históricos que incluyen precio, capitalización de mercado y volumen de 24 horas dentro de un rango de marca de tiempo (granularidad automática)"
   ]
  },
  {
   "cell_type": "code",
   "execution_count": 12,
   "metadata": {},
   "outputs": [],
   "source": [
    "def get_coin_market_chart_range_by_id(id:str,markert_chart:str,to:str,From:str):\n",
    "    ''' Ejem: id = Bitcoin , markert_chart = usd, to = 1660539600, from = 1692079200 '''\n",
    "    return cg.get_coin_market_chart_range_by_id(id,markert_chart,to,From)"
   ]
  },
  {
   "cell_type": "code",
   "execution_count": 13,
   "metadata": {},
   "outputs": [
    {
     "name": "stdout",
     "output_type": "stream",
     "text": [
      "2023-08-19 06:00:00\n"
     ]
    }
   ],
   "source": [
    "from datetime import datetime\n",
    "#1660971600 ----> 2022-08-20\n",
    "#1692424800 ----> 2023-08-19\n",
    "\n",
    "timestamp = 1692424800\n",
    "\n",
    "# Convertir el timestamp a una fecha legible\n",
    "fecha_legible = datetime.utcfromtimestamp(timestamp).strftime('%Y-%m-%d %H:%M:%S')\n",
    "\n",
    "print(fecha_legible)"
   ]
  },
  {
   "cell_type": "code",
   "execution_count": 14,
   "metadata": {},
   "outputs": [],
   "source": [
    "def extract_unix_timestamp(item):\n",
    "    fecha_ilegible= item[0] // 1000  # Dividir por 1000 para obtener 10 dígitos\n",
    "    fecha_legible = datetime.utcfromtimestamp(fecha_ilegible).strftime('%Y-%m-%d')\n",
    "    return fecha_legible"
   ]
  },
  {
   "cell_type": "code",
   "execution_count": 15,
   "metadata": {},
   "outputs": [],
   "source": [
    "def remove_unix_timestamp(item):\n",
    "    return item[1]"
   ]
  },
  {
   "cell_type": "code",
   "execution_count": 16,
   "metadata": {},
   "outputs": [],
   "source": [
    "#Está lista se ocupara para que todos los DataFrames tengan las mismas fechas.\n",
    "fecha_inicio = '2022-08-20'\n",
    "fecha_fin = '2023-08-19'\n",
    "\n",
    "rango_fechas = pd.date_range(start=fecha_inicio, end=fecha_fin, freq='D')\n",
    "\n",
    "# Crear un DataFrame con la columna de fechas\n",
    "df_Fechas = pd.DataFrame({'fechas': rango_fechas})"
   ]
  },
  {
   "cell_type": "code",
   "execution_count": 62,
   "metadata": {},
   "outputs": [],
   "source": [
    "def df_market(id:str):    \n",
    "    #Creación DataFrame\n",
    "    gcmcrange=get_coin_market_chart_range_by_id(id,'usd','1660971600','1692424800')\n",
    "    df=pd.DataFrame(gcmcrange)\n",
    "    #Extracción Fechas:\n",
    "    df['fechas'] = df['prices'].apply(extract_unix_timestamp)\n",
    "    #Remove Unix Time\n",
    "    for i in df:\n",
    "        df[i+'2'] = df[i].apply(remove_unix_timestamp)\n",
    "    #Formato DataTime para posterior merge:\n",
    "    df['fechas'] = pd.to_datetime(df['fechas'])\n",
    "\n",
    "    columnas_a_eliminar = ['prices', 'market_caps','total_volumes','fechas2']\n",
    "    df=df.drop(columns= columnas_a_eliminar)\n",
    "\n",
    "    df_union = pd.merge(df_Fechas, df, on='fechas', how='outer')\n",
    "\n",
    "    #Agregando Columna con ID \n",
    "    df_union.insert(0, 'Cripto', id)\n",
    "    \n",
    "\n",
    "    return df_union"
   ]
  },
  {
   "cell_type": "markdown",
   "metadata": {},
   "source": [
    "#### Categoría: Layer 1 (L1)"
   ]
  },
  {
   "cell_type": "code",
   "execution_count": 63,
   "metadata": {},
   "outputs": [
    {
     "data": {
      "text/html": [
       "<div>\n",
       "<style scoped>\n",
       "    .dataframe tbody tr th:only-of-type {\n",
       "        vertical-align: middle;\n",
       "    }\n",
       "\n",
       "    .dataframe tbody tr th {\n",
       "        vertical-align: top;\n",
       "    }\n",
       "\n",
       "    .dataframe thead th {\n",
       "        text-align: right;\n",
       "    }\n",
       "</style>\n",
       "<table border=\"1\" class=\"dataframe\">\n",
       "  <thead>\n",
       "    <tr style=\"text-align: right;\">\n",
       "      <th></th>\n",
       "      <th>id</th>\n",
       "      <th>symbol</th>\n",
       "      <th>name</th>\n",
       "    </tr>\n",
       "  </thead>\n",
       "  <tbody>\n",
       "    <tr>\n",
       "      <th>783</th>\n",
       "      <td>avalanche-2</td>\n",
       "      <td>avax</td>\n",
       "      <td>Avalanche</td>\n",
       "    </tr>\n",
       "    <tr>\n",
       "      <th>1108</th>\n",
       "      <td>binancecoin</td>\n",
       "      <td>bnb</td>\n",
       "      <td>BNB</td>\n",
       "    </tr>\n",
       "    <tr>\n",
       "      <th>1163</th>\n",
       "      <td>bitcoin</td>\n",
       "      <td>btc</td>\n",
       "      <td>Bitcoin</td>\n",
       "    </tr>\n",
       "    <tr>\n",
       "      <th>1172</th>\n",
       "      <td>bitcoin-cash</td>\n",
       "      <td>bch</td>\n",
       "      <td>Bitcoin Cash</td>\n",
       "    </tr>\n",
       "    <tr>\n",
       "      <th>1636</th>\n",
       "      <td>cardano</td>\n",
       "      <td>ada</td>\n",
       "      <td>Cardano</td>\n",
       "    </tr>\n",
       "    <tr>\n",
       "      <th>2083</th>\n",
       "      <td>cosmos</td>\n",
       "      <td>atom</td>\n",
       "      <td>Cosmos Hub</td>\n",
       "    </tr>\n",
       "    <tr>\n",
       "      <th>3119</th>\n",
       "      <td>ethereum</td>\n",
       "      <td>eth</td>\n",
       "      <td>Ethereum</td>\n",
       "    </tr>\n",
       "    <tr>\n",
       "      <th>4054</th>\n",
       "      <td>hedera-hashgraph</td>\n",
       "      <td>hbar</td>\n",
       "      <td>Hedera</td>\n",
       "    </tr>\n",
       "    <tr>\n",
       "      <th>6959</th>\n",
       "      <td>polkadot</td>\n",
       "      <td>dot</td>\n",
       "      <td>Polkadot</td>\n",
       "    </tr>\n",
       "    <tr>\n",
       "      <th>8082</th>\n",
       "      <td>solana</td>\n",
       "      <td>sol</td>\n",
       "      <td>Solana</td>\n",
       "    </tr>\n",
       "  </tbody>\n",
       "</table>\n",
       "</div>"
      ],
      "text/plain": [
       "                    id symbol          name\n",
       "783        avalanche-2   avax     Avalanche\n",
       "1108       binancecoin    bnb           BNB\n",
       "1163           bitcoin    btc       Bitcoin\n",
       "1172      bitcoin-cash    bch  Bitcoin Cash\n",
       "1636           cardano    ada       Cardano\n",
       "2083            cosmos   atom    Cosmos Hub\n",
       "3119          ethereum    eth      Ethereum\n",
       "4054  hedera-hashgraph   hbar        Hedera\n",
       "6959          polkadot    dot      Polkadot\n",
       "8082            solana    sol        Solana"
      ]
     },
     "execution_count": 63,
     "metadata": {},
     "output_type": "execute_result"
    }
   ],
   "source": [
    "criptos"
   ]
  },
  {
   "cell_type": "code",
   "execution_count": 64,
   "metadata": {},
   "outputs": [],
   "source": [
    "df_Bitcoin_market=df_market('bitcoin')\n",
    "df_Ethereum_market=df_market('ethereum')\n",
    "df_BNB_market=df_market('binancecoin')\n",
    "df_Cardano_market=df_market('cardano')\n",
    "df_Solana_market=df_market('solana')\n",
    "df_polkadot_market=df_market('polkadot')\n",
    "df_bitcoin_cash_market=df_market('bitcoin-cash')\n",
    "df_Avalanche_market=df_market('avalanche-2')\n",
    "df_cosmos_market=df_market('cosmos')\n",
    "df_hedera_hashgraph_market=df_market('hedera-hashgraph')"
   ]
  },
  {
   "cell_type": "code",
   "execution_count": 75,
   "metadata": {},
   "outputs": [],
   "source": [
    "# Lista de DataFrames a agregar\n",
    "dataframes = [df_Bitcoin_market, df_Ethereum_market,df_BNB_market,df_Cardano_market,\n",
    "              df_Solana_market,df_polkadot_market,df_bitcoin_cash_market,df_Avalanche_market\n",
    "              ,df_cosmos_market,df_hedera_hashgraph_market]\n",
    "\n",
    "df_concatenated = pd.concat(dataframes, ignore_index=False)"
   ]
  },
  {
   "cell_type": "code",
   "execution_count": 77,
   "metadata": {},
   "outputs": [
    {
     "data": {
      "text/plain": [
       "(3650, 5)"
      ]
     },
     "execution_count": 77,
     "metadata": {},
     "output_type": "execute_result"
    }
   ],
   "source": [
    "df_concatenated.shape"
   ]
  },
  {
   "cell_type": "markdown",
   "metadata": {},
   "source": [
    "### Extracción de precios de apertura, mayor precio, menor y cierrre."
   ]
  },
  {
   "cell_type": "code",
   "execution_count": 78,
   "metadata": {},
   "outputs": [],
   "source": [
    "def Candles_Cripto(id):\n",
    "\n",
    "    df = pd.DataFrame(client.get_historical_klines(id,'1d','1660971600','1692424800'))\n",
    "    df = df.iloc[:,:5]\n",
    "    df.columns = ['fechas','Open','High','Low','Close',]\n",
    "    df['fechas'] = pd.to_datetime(df.fechas,unit='ms')\n",
    "    df = df.set_index('fechas')\n",
    "    df = df.astype(float)\n",
    "    return df"
   ]
  },
  {
   "cell_type": "code",
   "execution_count": 79,
   "metadata": {},
   "outputs": [],
   "source": [
    "Symbol=(criptos['symbol'].tolist())"
   ]
  },
  {
   "cell_type": "code",
   "execution_count": 80,
   "metadata": {},
   "outputs": [],
   "source": [
    "Symbol\n",
    "for i in range(len(Symbol)):\n",
    "    Symbol[i] = Symbol[i] + 'usdt'\n",
    "Symbol = [item.upper() for item in Symbol]"
   ]
  },
  {
   "cell_type": "code",
   "execution_count": 81,
   "metadata": {},
   "outputs": [
    {
     "data": {
      "text/html": [
       "<div>\n",
       "<style scoped>\n",
       "    .dataframe tbody tr th:only-of-type {\n",
       "        vertical-align: middle;\n",
       "    }\n",
       "\n",
       "    .dataframe tbody tr th {\n",
       "        vertical-align: top;\n",
       "    }\n",
       "\n",
       "    .dataframe thead th {\n",
       "        text-align: right;\n",
       "    }\n",
       "</style>\n",
       "<table border=\"1\" class=\"dataframe\">\n",
       "  <thead>\n",
       "    <tr style=\"text-align: right;\">\n",
       "      <th></th>\n",
       "      <th>id</th>\n",
       "      <th>symbol</th>\n",
       "      <th>name</th>\n",
       "    </tr>\n",
       "  </thead>\n",
       "  <tbody>\n",
       "    <tr>\n",
       "      <th>783</th>\n",
       "      <td>avalanche-2</td>\n",
       "      <td>avax</td>\n",
       "      <td>Avalanche</td>\n",
       "    </tr>\n",
       "    <tr>\n",
       "      <th>1108</th>\n",
       "      <td>binancecoin</td>\n",
       "      <td>bnb</td>\n",
       "      <td>BNB</td>\n",
       "    </tr>\n",
       "    <tr>\n",
       "      <th>1163</th>\n",
       "      <td>bitcoin</td>\n",
       "      <td>btc</td>\n",
       "      <td>Bitcoin</td>\n",
       "    </tr>\n",
       "    <tr>\n",
       "      <th>1172</th>\n",
       "      <td>bitcoin-cash</td>\n",
       "      <td>bch</td>\n",
       "      <td>Bitcoin Cash</td>\n",
       "    </tr>\n",
       "    <tr>\n",
       "      <th>1636</th>\n",
       "      <td>cardano</td>\n",
       "      <td>ada</td>\n",
       "      <td>Cardano</td>\n",
       "    </tr>\n",
       "    <tr>\n",
       "      <th>2083</th>\n",
       "      <td>cosmos</td>\n",
       "      <td>atom</td>\n",
       "      <td>Cosmos Hub</td>\n",
       "    </tr>\n",
       "    <tr>\n",
       "      <th>3119</th>\n",
       "      <td>ethereum</td>\n",
       "      <td>eth</td>\n",
       "      <td>Ethereum</td>\n",
       "    </tr>\n",
       "    <tr>\n",
       "      <th>4054</th>\n",
       "      <td>hedera-hashgraph</td>\n",
       "      <td>hbar</td>\n",
       "      <td>Hedera</td>\n",
       "    </tr>\n",
       "    <tr>\n",
       "      <th>6959</th>\n",
       "      <td>polkadot</td>\n",
       "      <td>dot</td>\n",
       "      <td>Polkadot</td>\n",
       "    </tr>\n",
       "    <tr>\n",
       "      <th>8082</th>\n",
       "      <td>solana</td>\n",
       "      <td>sol</td>\n",
       "      <td>Solana</td>\n",
       "    </tr>\n",
       "  </tbody>\n",
       "</table>\n",
       "</div>"
      ],
      "text/plain": [
       "                    id symbol          name\n",
       "783        avalanche-2   avax     Avalanche\n",
       "1108       binancecoin    bnb           BNB\n",
       "1163           bitcoin    btc       Bitcoin\n",
       "1172      bitcoin-cash    bch  Bitcoin Cash\n",
       "1636           cardano    ada       Cardano\n",
       "2083            cosmos   atom    Cosmos Hub\n",
       "3119          ethereum    eth      Ethereum\n",
       "4054  hedera-hashgraph   hbar        Hedera\n",
       "6959          polkadot    dot      Polkadot\n",
       "8082            solana    sol        Solana"
      ]
     },
     "execution_count": 81,
     "metadata": {},
     "output_type": "execute_result"
    }
   ],
   "source": [
    "criptos"
   ]
  },
  {
   "cell_type": "code",
   "execution_count": 82,
   "metadata": {},
   "outputs": [
    {
     "data": {
      "text/plain": [
       "['AVAXUSDT',\n",
       " 'BNBUSDT',\n",
       " 'BTCUSDT',\n",
       " 'BCHUSDT',\n",
       " 'ADAUSDT',\n",
       " 'ATOMUSDT',\n",
       " 'ETHUSDT',\n",
       " 'HBARUSDT',\n",
       " 'DOTUSDT',\n",
       " 'SOLUSDT']"
      ]
     },
     "execution_count": 82,
     "metadata": {},
     "output_type": "execute_result"
    }
   ],
   "source": [
    "Symbol"
   ]
  },
  {
   "cell_type": "code",
   "execution_count": 83,
   "metadata": {},
   "outputs": [],
   "source": [
    "df_Candles_Bitcoin=Candles_Cripto('BTCUSDT')\n",
    "df_Candles_Ethereum=Candles_Cripto('ETHUSDT')\n",
    "df_Candles_BNB=Candles_Cripto('BNBUSDT')\n",
    "df_Candles_Cardano=Candles_Cripto('ADAUSDT')\n",
    "df_Candles_Solana=Candles_Cripto('SOLUSDT')\n",
    "df_Candles_polkadot=Candles_Cripto('DOTUSDT')\n",
    "df_Candles_bitcoin_cash=Candles_Cripto('BCHUSDT')\n",
    "df_Candles_Avalanche=Candles_Cripto('AVAXUSDT')\n",
    "df_Candles_cosmos=Candles_Cripto('ATOMUSDT')\n",
    "df_Candles_hedera_hashgraph=Candles_Cripto('HBARUSDT')"
   ]
  },
  {
   "cell_type": "code",
   "execution_count": 85,
   "metadata": {},
   "outputs": [],
   "source": [
    "def merge_data(df1,df2):\n",
    "    df1.set_index('fechas', inplace=True)\n",
    "    df=df1.merge(df2,left_index=True,right_index=True)\n",
    "    return df"
   ]
  },
  {
   "cell_type": "code",
   "execution_count": 48,
   "metadata": {},
   "outputs": [],
   "source": [
    "#merged_df = df_Bitcoin_market.merge(df_Candles_Bitcoin, left_index=True, right_index=True)\n"
   ]
  },
  {
   "cell_type": "code",
   "execution_count": 86,
   "metadata": {},
   "outputs": [],
   "source": [
    "df_Bitcoin=merge_data(df_Bitcoin_market,df_Candles_Bitcoin)\n"
   ]
  },
  {
   "cell_type": "code",
   "execution_count": 88,
   "metadata": {},
   "outputs": [],
   "source": [
    "df_Ethereum=merge_data(df_Ethereum_market,df_Candles_Ethereum)\n",
    "df_BNB=merge_data(df_BNB_market,df_Candles_BNB)\n",
    "df_Cardano=merge_data(df_Cardano_market,df_Candles_Cardano)\n",
    "df_Solana=merge_data(df_Solana_market,df_Candles_Solana)\n",
    "df_Polkadot=merge_data(df_polkadot_market,df_Candles_polkadot)\n",
    "df_Avalanche=merge_data(df_Avalanche_market,df_Candles_Avalanche)\n",
    "df_Cosmos=merge_data(df_cosmos_market,df_Candles_cosmos)\n",
    "df_Hedera=merge_data(df_hedera_hashgraph_market,df_Candles_hedera_hashgraph)\n",
    "df_Bitcoin_Cash=merge_data(df_bitcoin_cash_market,df_Candles_bitcoin_cash)\n"
   ]
  },
  {
   "cell_type": "code",
   "execution_count": 90,
   "metadata": {},
   "outputs": [
    {
     "data": {
      "text/plain": [
       "(364, 8)"
      ]
     },
     "execution_count": 90,
     "metadata": {},
     "output_type": "execute_result"
    }
   ],
   "source": [
    "df_Bitcoin_Cash.shape"
   ]
  },
  {
   "cell_type": "code",
   "execution_count": 91,
   "metadata": {},
   "outputs": [],
   "source": [
    "Layer_1=[df_Bitcoin,df_Ethereum,df_BNB,df_Cardano,df_Solana,df_Polkadot,df_Avalanche\n",
    "            ,df_Cosmos,df_Hedera,df_Bitcoin_Cash]\n",
    "\n",
    "Layer_1=pd.concat(Layer_1,ignore_index=False)"
   ]
  },
  {
   "cell_type": "code",
   "execution_count": 93,
   "metadata": {},
   "outputs": [],
   "source": [
    "#Asignar Ranking de acuerdo al MarketCap\n",
    "latest_data = Layer_1.groupby('Cripto').apply(lambda group: group[group.index == group.index.max()])\n",
    "latest_data = latest_data.sort_values(by='market_caps2', ascending=False)\n",
    "latest_data['Ranking'] = range(1, len(latest_data) + 1)\n",
    "Layer_1['Ranking'] = Layer_1['Cripto'].map(latest_data.set_index('Cripto')['Ranking'])"
   ]
  },
  {
   "cell_type": "markdown",
   "metadata": {},
   "source": [
    "Agregar Body Ratio"
   ]
  },
  {
   "cell_type": "code",
   "execution_count": 96,
   "metadata": {},
   "outputs": [],
   "source": [
    "# Calcular el Body Ratio\n",
    "Layer_1['Body_Ratio'] = abs(Layer_1['Close'] - Layer_1['Open']) / (Layer_1['High'] - Layer_1['Low'])\n",
    "\n",
    "# Clasificar las velas en tres categorías basadas en el Body Ratio y dirección de cierre\n",
    "def classify_vela(row):\n",
    "    if row['Body_Ratio'] < 0.3:\n",
    "        return 'Indecisión'\n",
    "    elif row['Body_Ratio'] >= 0.3 and row['Body_Ratio'] <= 0.7:\n",
    "        return 'Fuerte Volatilidad'\n",
    "    else:\n",
    "        if row['Close'] > row['Open']:\n",
    "            return 'Fuerte Dirección Alcista'\n",
    "        else:\n",
    "            return 'Fuerte Dirección Bajista'\n",
    "\n",
    "Layer_1['Clasificación'] = Layer_1.apply(classify_vela, axis=1)"
   ]
  },
  {
   "cell_type": "markdown",
   "metadata": {},
   "source": [
    "Agregar Retorno Diario"
   ]
  },
  {
   "cell_type": "code",
   "execution_count": 99,
   "metadata": {},
   "outputs": [],
   "source": [
    "Layer_1['Daily_Return'] = Layer_1.groupby('Cripto')['Close'].pct_change()"
   ]
  },
  {
   "cell_type": "code",
   "execution_count": 101,
   "metadata": {},
   "outputs": [],
   "source": [
    "Layer_1['Daily_Return'].fillna(0, inplace=True)"
   ]
  },
  {
   "cell_type": "code",
   "execution_count": 103,
   "metadata": {},
   "outputs": [],
   "source": [
    "Layer_1.to_csv('DataCriptos.csv',index=True)"
   ]
  },
  {
   "cell_type": "markdown",
   "metadata": {},
   "source": [
    "Obtención de datos del Top 3 compañias en el sector de Tecnología\n",
    "\n",
    "Fuente Yahoo."
   ]
  },
  {
   "cell_type": "markdown",
   "metadata": {},
   "source": [
    "AAPL\tApple Inc.\n",
    "MSFT\tMicrosoft Corporation\n",
    "NVIDIA Corporation\n"
   ]
  },
  {
   "cell_type": "code",
   "execution_count": 104,
   "metadata": {},
   "outputs": [],
   "source": [
    "start_date = \"2022-08-20\"\n",
    "end_date = \"2023-08-19\"\n",
    "columns=['Dividends','Stock Splits']"
   ]
  },
  {
   "cell_type": "code",
   "execution_count": 105,
   "metadata": {},
   "outputs": [],
   "source": [
    "AAPL = yf.Ticker(\"AAPL\")\n",
    "df_AAPL = AAPL.history(period=\"1d\", start=start_date, end=end_date)\n",
    "df_AAPL = AAPL.history(period=\"1d\", start=start_date, end=end_date)\n",
    "df_AAPL.index = df_AAPL.index.date\n",
    "df_AAPL=df_AAPL.drop(columns=columns)\n",
    "start_date = df_AAPL.index.min()\n",
    "end_date = df_AAPL.index.max()\n",
    "date_range = pd.date_range(start=start_date, end=end_date)\n",
    "df_AAPL = df_AAPL.reindex(date_range)\n",
    "df_AAPL.insert(0, 'Company', 'Apple Inc.')\n",
    "df_AAPL=df_AAPL.interpolate()"
   ]
  },
  {
   "cell_type": "code",
   "execution_count": 106,
   "metadata": {},
   "outputs": [],
   "source": [
    "MSFT = yf.Ticker(\"MSFT\")\n",
    "df_MSFT = MSFT.history(period=\"1d\", start=start_date, end=end_date)\n",
    "df_MSFT = MSFT.history(period=\"1d\", start=start_date, end=end_date)\n",
    "df_MSFT.index = df_MSFT.index.date\n",
    "df_MSFT=df_MSFT.drop(columns=columns)\n",
    "start_date = df_MSFT.index.min()\n",
    "end_date = df_MSFT.index.max()\n",
    "date_range = pd.date_range(start=start_date, end=end_date)\n",
    "df_MSFT = df_MSFT.reindex(date_range)\n",
    "df_MSFT.insert(0, 'Company', 'Microsoft Corporation')\n",
    "df_MSFT=df_MSFT.interpolate()\n"
   ]
  },
  {
   "cell_type": "code",
   "execution_count": 107,
   "metadata": {},
   "outputs": [],
   "source": [
    "DataTec=[df_AAPL,df_MSFT]\n",
    "\n",
    "DataTec=pd.concat(DataTec,ignore_index=False)"
   ]
  },
  {
   "cell_type": "code",
   "execution_count": 109,
   "metadata": {},
   "outputs": [],
   "source": [
    "# Calcular el Body Ratio\n",
    "DataTec['Body_Ratio'] = abs(DataTec['Close'] - DataTec['Open']) / (DataTec['High'] - DataTec['Low'])\n",
    "\n",
    "DataTec['Clasificación'] = DataTec.apply(classify_vela, axis=1)"
   ]
  },
  {
   "cell_type": "markdown",
   "metadata": {},
   "source": [
    "Retorno Diario"
   ]
  },
  {
   "cell_type": "code",
   "execution_count": 111,
   "metadata": {},
   "outputs": [],
   "source": [
    "DataTec['Daily_Return'] = DataTec.groupby('Company')['Close'].pct_change()"
   ]
  },
  {
   "cell_type": "code",
   "execution_count": 113,
   "metadata": {},
   "outputs": [],
   "source": [
    "DataTec['Daily_Return'].fillna(0, inplace=True)"
   ]
  },
  {
   "cell_type": "code",
   "execution_count": 114,
   "metadata": {},
   "outputs": [],
   "source": [
    "DataTec.to_csv('DataTec.csv',index=True)"
   ]
  }
 ],
 "metadata": {
  "kernelspec": {
   "display_name": "Python 3.8.3 ('venv': venv)",
   "language": "python",
   "name": "python3"
  },
  "language_info": {
   "codemirror_mode": {
    "name": "ipython",
    "version": 3
   },
   "file_extension": ".py",
   "mimetype": "text/x-python",
   "name": "python",
   "nbconvert_exporter": "python",
   "pygments_lexer": "ipython3",
   "version": "3.8.3"
  },
  "orig_nbformat": 4,
  "vscode": {
   "interpreter": {
    "hash": "7ab3a6461443f2419a159c3eff15f846ce885656b01420a9c9c217a21138af54"
   }
  }
 },
 "nbformat": 4,
 "nbformat_minor": 2
}
