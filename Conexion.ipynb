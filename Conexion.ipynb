{
 "cells": [
  {
   "cell_type": "code",
   "execution_count": 247,
   "metadata": {},
   "outputs": [],
   "source": [
    "import pandas as pd\n",
    "import requests\n",
    "from pycoingecko import CoinGeckoAPI\n",
    "from pprint import pprint\n",
    "from datetime import datetime"
   ]
  },
  {
   "cell_type": "code",
   "execution_count": 36,
   "metadata": {},
   "outputs": [],
   "source": [
    "cg = CoinGeckoAPI()"
   ]
  },
  {
   "cell_type": "markdown",
   "metadata": {},
   "source": [
    "Se decide hacer un análisis por categoría "
   ]
  },
  {
   "cell_type": "code",
   "execution_count": 62,
   "metadata": {},
   "outputs": [
    {
     "data": {
      "text/html": [
       "<div>\n",
       "<style scoped>\n",
       "    .dataframe tbody tr th:only-of-type {\n",
       "        vertical-align: middle;\n",
       "    }\n",
       "\n",
       "    .dataframe tbody tr th {\n",
       "        vertical-align: top;\n",
       "    }\n",
       "\n",
       "    .dataframe thead th {\n",
       "        text-align: right;\n",
       "    }\n",
       "</style>\n",
       "<table border=\"1\" class=\"dataframe\">\n",
       "  <thead>\n",
       "    <tr style=\"text-align: right;\">\n",
       "      <th></th>\n",
       "      <th>category_id</th>\n",
       "      <th>name</th>\n",
       "    </tr>\n",
       "  </thead>\n",
       "  <tbody>\n",
       "    <tr>\n",
       "      <th>0</th>\n",
       "      <td>aave-tokens</td>\n",
       "      <td>Aave Tokens</td>\n",
       "    </tr>\n",
       "    <tr>\n",
       "      <th>1</th>\n",
       "      <td>algorand-ecosystem</td>\n",
       "      <td>Algorand Ecosystem</td>\n",
       "    </tr>\n",
       "    <tr>\n",
       "      <th>2</th>\n",
       "      <td>alleged-sec-securities</td>\n",
       "      <td>Alleged SEC Securities</td>\n",
       "    </tr>\n",
       "    <tr>\n",
       "      <th>3</th>\n",
       "      <td>analytics</td>\n",
       "      <td>Analytics</td>\n",
       "    </tr>\n",
       "    <tr>\n",
       "      <th>4</th>\n",
       "      <td>animal-racing</td>\n",
       "      <td>Animal Racing</td>\n",
       "    </tr>\n",
       "    <tr>\n",
       "      <th>...</th>\n",
       "      <td>...</td>\n",
       "      <td>...</td>\n",
       "    </tr>\n",
       "    <tr>\n",
       "      <th>202</th>\n",
       "      <td>yield-aggregator</td>\n",
       "      <td>Yield Aggregator</td>\n",
       "    </tr>\n",
       "    <tr>\n",
       "      <th>203</th>\n",
       "      <td>yield-farming</td>\n",
       "      <td>Yield Farming</td>\n",
       "    </tr>\n",
       "    <tr>\n",
       "      <th>204</th>\n",
       "      <td>zero-knowledge-zk</td>\n",
       "      <td>Zero Knowledge (ZK)</td>\n",
       "    </tr>\n",
       "    <tr>\n",
       "      <th>205</th>\n",
       "      <td>zilliqa-ecosystem</td>\n",
       "      <td>Zilliqa Ecosystem</td>\n",
       "    </tr>\n",
       "    <tr>\n",
       "      <th>206</th>\n",
       "      <td>zksync-ecosystem</td>\n",
       "      <td>ZkSync Ecosystem</td>\n",
       "    </tr>\n",
       "  </tbody>\n",
       "</table>\n",
       "<p>207 rows × 2 columns</p>\n",
       "</div>"
      ],
      "text/plain": [
       "                category_id                    name\n",
       "0               aave-tokens             Aave Tokens\n",
       "1        algorand-ecosystem      Algorand Ecosystem\n",
       "2    alleged-sec-securities  Alleged SEC Securities\n",
       "3                 analytics               Analytics\n",
       "4             animal-racing           Animal Racing\n",
       "..                      ...                     ...\n",
       "202        yield-aggregator        Yield Aggregator\n",
       "203           yield-farming           Yield Farming\n",
       "204       zero-knowledge-zk     Zero Knowledge (ZK)\n",
       "205       zilliqa-ecosystem       Zilliqa Ecosystem\n",
       "206        zksync-ecosystem        ZkSync Ecosystem\n",
       "\n",
       "[207 rows x 2 columns]"
      ]
     },
     "execution_count": 62,
     "metadata": {},
     "output_type": "execute_result"
    }
   ],
   "source": [
    "#Lista de todas las categorías\n",
    "categoría=pd.DataFrame(cg.get_coins_categories_list())\n",
    "categoría"
   ]
  },
  {
   "cell_type": "code",
   "execution_count": 454,
   "metadata": {},
   "outputs": [],
   "source": [
    "#Lista de todas las categorías con datos de mercado\n",
    "datos_merc_ct=pd.DataFrame(cg.get_coins_categories(order='market_cap_asc'))\n",
    "datos_merc_ct=datos_merc_ct.sort_values(by='market_cap',ascending=False).dropna(subset='market_cap')\n",
    "datos_merc_ct=datos_merc_ct.head(5)"
   ]
  },
  {
   "cell_type": "markdown",
   "metadata": {},
   "source": [
    "Top 5 de grupos con mayor \"market_cap\""
   ]
  },
  {
   "cell_type": "code",
   "execution_count": 455,
   "metadata": {},
   "outputs": [
    {
     "data": {
      "text/html": [
       "<div>\n",
       "<style scoped>\n",
       "    .dataframe tbody tr th:only-of-type {\n",
       "        vertical-align: middle;\n",
       "    }\n",
       "\n",
       "    .dataframe tbody tr th {\n",
       "        vertical-align: top;\n",
       "    }\n",
       "\n",
       "    .dataframe thead th {\n",
       "        text-align: right;\n",
       "    }\n",
       "</style>\n",
       "<table border=\"1\" class=\"dataframe\">\n",
       "  <thead>\n",
       "    <tr style=\"text-align: right;\">\n",
       "      <th></th>\n",
       "      <th>id</th>\n",
       "      <th>name</th>\n",
       "      <th>market_cap</th>\n",
       "      <th>market_cap_change_24h</th>\n",
       "      <th>content</th>\n",
       "      <th>top_3_coins</th>\n",
       "      <th>volume_24h</th>\n",
       "      <th>updated_at</th>\n",
       "    </tr>\n",
       "  </thead>\n",
       "  <tbody>\n",
       "    <tr>\n",
       "      <th>114</th>\n",
       "      <td>layer-1</td>\n",
       "      <td>Layer 1 (L1)</td>\n",
       "      <td>8.618834e+11</td>\n",
       "      <td>-2.330934</td>\n",
       "      <td></td>\n",
       "      <td>[https://assets.coingecko.com/coins/images/1/s...</td>\n",
       "      <td>2.034994e+10</td>\n",
       "      <td>2023-08-16T21:20:19.710Z</td>\n",
       "    </tr>\n",
       "    <tr>\n",
       "      <th>113</th>\n",
       "      <td>smart-contract-platform</td>\n",
       "      <td>Smart Contract Platform</td>\n",
       "      <td>3.290123e+11</td>\n",
       "      <td>-3.863010</td>\n",
       "      <td>Smart contract platforms are usually blockchai...</td>\n",
       "      <td>[https://assets.coingecko.com/coins/images/279...</td>\n",
       "      <td>1.036886e+10</td>\n",
       "      <td>2023-08-16T21:20:06.780Z</td>\n",
       "    </tr>\n",
       "    <tr>\n",
       "      <th>112</th>\n",
       "      <td>stablecoins</td>\n",
       "      <td>Stablecoins</td>\n",
       "      <td>1.244844e+11</td>\n",
       "      <td>-0.335983</td>\n",
       "      <td></td>\n",
       "      <td>[https://assets.coingecko.com/coins/images/325...</td>\n",
       "      <td>2.902689e+10</td>\n",
       "      <td>2023-08-16T21:20:06.406Z</td>\n",
       "    </tr>\n",
       "    <tr>\n",
       "      <th>111</th>\n",
       "      <td>alleged-sec-securities</td>\n",
       "      <td>Alleged SEC Securities</td>\n",
       "      <td>8.719853e+10</td>\n",
       "      <td>-5.829467</td>\n",
       "      <td>Tokens and cryptocurrencies alleged to be secu...</td>\n",
       "      <td>[https://assets.coingecko.com/coins/images/825...</td>\n",
       "      <td>3.209516e+09</td>\n",
       "      <td>2023-08-16T21:20:03.371Z</td>\n",
       "    </tr>\n",
       "    <tr>\n",
       "      <th>110</th>\n",
       "      <td>exchange-based-tokens</td>\n",
       "      <td>Exchange-based Tokens</td>\n",
       "      <td>5.671039e+10</td>\n",
       "      <td>-4.500253</td>\n",
       "      <td>These tokens are normally associated with both...</td>\n",
       "      <td>[https://assets.coingecko.com/coins/images/825...</td>\n",
       "      <td>1.338869e+09</td>\n",
       "      <td>2023-08-16T21:20:08.773Z</td>\n",
       "    </tr>\n",
       "  </tbody>\n",
       "</table>\n",
       "</div>"
      ],
      "text/plain": [
       "                          id                     name    market_cap  \\\n",
       "114                  layer-1             Layer 1 (L1)  8.618834e+11   \n",
       "113  smart-contract-platform  Smart Contract Platform  3.290123e+11   \n",
       "112              stablecoins              Stablecoins  1.244844e+11   \n",
       "111   alleged-sec-securities   Alleged SEC Securities  8.719853e+10   \n",
       "110    exchange-based-tokens    Exchange-based Tokens  5.671039e+10   \n",
       "\n",
       "     market_cap_change_24h                                            content  \\\n",
       "114              -2.330934                                                      \n",
       "113              -3.863010  Smart contract platforms are usually blockchai...   \n",
       "112              -0.335983                                                      \n",
       "111              -5.829467  Tokens and cryptocurrencies alleged to be secu...   \n",
       "110              -4.500253  These tokens are normally associated with both...   \n",
       "\n",
       "                                           top_3_coins    volume_24h  \\\n",
       "114  [https://assets.coingecko.com/coins/images/1/s...  2.034994e+10   \n",
       "113  [https://assets.coingecko.com/coins/images/279...  1.036886e+10   \n",
       "112  [https://assets.coingecko.com/coins/images/325...  2.902689e+10   \n",
       "111  [https://assets.coingecko.com/coins/images/825...  3.209516e+09   \n",
       "110  [https://assets.coingecko.com/coins/images/825...  1.338869e+09   \n",
       "\n",
       "                   updated_at  \n",
       "114  2023-08-16T21:20:19.710Z  \n",
       "113  2023-08-16T21:20:06.780Z  \n",
       "112  2023-08-16T21:20:06.406Z  \n",
       "111  2023-08-16T21:20:03.371Z  \n",
       "110  2023-08-16T21:20:08.773Z  "
      ]
     },
     "execution_count": 455,
     "metadata": {},
     "output_type": "execute_result"
    }
   ],
   "source": [
    "datos_merc_ct"
   ]
  },
  {
   "cell_type": "code",
   "execution_count": 161,
   "metadata": {},
   "outputs": [
    {
     "data": {
      "text/plain": [
       "['https://assets.coingecko.com/coins/images/325/small/Tether.png?1668148663',\n",
       " 'https://assets.coingecko.com/coins/images/6319/small/USD_Coin_icon.png?1547042389',\n",
       " 'https://assets.coingecko.com/coins/images/9956/small/Badge_Dai.png?1687143508']"
      ]
     },
     "execution_count": 161,
     "metadata": {},
     "output_type": "execute_result"
    }
   ],
   "source": [
    "datos_merc_ct['top_3_coins'][112]"
   ]
  },
  {
   "cell_type": "code",
   "execution_count": 456,
   "metadata": {},
   "outputs": [],
   "source": [
    "list=[]\n",
    "crypto_names=[]\n",
    "for i in datos_merc_ct['top_3_coins']:\n",
    "    list.append(i)\n",
    "\n",
    "for sublist in list:\n",
    "    for url in sublist:\n",
    "        # Obtener el nombre de la criptomoneda a partir de la URL\n",
    "        name = url.split('/')[-1].split('.')[0]\n",
    "        crypto_names.append(name)"
   ]
  },
  {
   "cell_type": "code",
   "execution_count": 468,
   "metadata": {},
   "outputs": [
    {
     "data": {
      "text/plain": [
       "['bitcoin',\n",
       " 'ethereum',\n",
       " 'bnb-icon2_2x',\n",
       " 'ethereum',\n",
       " 'bnb-icon2_2x',\n",
       " 'cardano',\n",
       " 'Tether',\n",
       " 'USD_Coin_icon',\n",
       " 'Badge_Dai',\n",
       " 'bnb-icon2_2x',\n",
       " 'cardano',\n",
       " 'solana',\n",
       " 'bnb-icon2_2x',\n",
       " 'uni',\n",
       " 'leo-token']"
      ]
     },
     "execution_count": 468,
     "metadata": {},
     "output_type": "execute_result"
    }
   ],
   "source": [
    "crypto_names"
   ]
  },
  {
   "cell_type": "code",
   "execution_count": 457,
   "metadata": {},
   "outputs": [
    {
     "data": {
      "text/plain": [
       "{'Badge_Dai',\n",
       " 'Tether',\n",
       " 'USD_Coin_icon',\n",
       " 'bitcoin',\n",
       " 'bnb-icon2_2x',\n",
       " 'cardano',\n",
       " 'ethereum',\n",
       " 'leo-token',\n",
       " 'solana',\n",
       " 'uni'}"
      ]
     },
     "execution_count": 457,
     "metadata": {},
     "output_type": "execute_result"
    }
   ],
   "source": [
    "unique_crypto_names = set(crypto_names)\n",
    "unique_crypto_names"
   ]
  },
  {
   "cell_type": "code",
   "execution_count": 462,
   "metadata": {},
   "outputs": [],
   "source": [
    "def get_coin_list():\n",
    "    return cg.get_coins_list()"
   ]
  },
  {
   "cell_type": "code",
   "execution_count": 463,
   "metadata": {},
   "outputs": [],
   "source": [
    "df1=get_coin_list()\n",
    "df1=pd.DataFrame(df1)"
   ]
  },
  {
   "cell_type": "code",
   "execution_count": 464,
   "metadata": {},
   "outputs": [
    {
     "data": {
      "text/html": [
       "<div>\n",
       "<style scoped>\n",
       "    .dataframe tbody tr th:only-of-type {\n",
       "        vertical-align: middle;\n",
       "    }\n",
       "\n",
       "    .dataframe tbody tr th {\n",
       "        vertical-align: top;\n",
       "    }\n",
       "\n",
       "    .dataframe thead th {\n",
       "        text-align: right;\n",
       "    }\n",
       "</style>\n",
       "<table border=\"1\" class=\"dataframe\">\n",
       "  <thead>\n",
       "    <tr style=\"text-align: right;\">\n",
       "      <th></th>\n",
       "      <th>id</th>\n",
       "      <th>symbol</th>\n",
       "      <th>name</th>\n",
       "    </tr>\n",
       "  </thead>\n",
       "  <tbody>\n",
       "    <tr>\n",
       "      <th>1085</th>\n",
       "      <td>binancecoin</td>\n",
       "      <td>bnb</td>\n",
       "      <td>BNB</td>\n",
       "    </tr>\n",
       "    <tr>\n",
       "      <th>1140</th>\n",
       "      <td>bitcoin</td>\n",
       "      <td>btc</td>\n",
       "      <td>Bitcoin</td>\n",
       "    </tr>\n",
       "    <tr>\n",
       "      <th>1605</th>\n",
       "      <td>cardano</td>\n",
       "      <td>ada</td>\n",
       "      <td>Cardano</td>\n",
       "    </tr>\n",
       "    <tr>\n",
       "      <th>2299</th>\n",
       "      <td>dai</td>\n",
       "      <td>dai</td>\n",
       "      <td>Dai</td>\n",
       "    </tr>\n",
       "    <tr>\n",
       "      <th>3075</th>\n",
       "      <td>ethereum</td>\n",
       "      <td>eth</td>\n",
       "      <td>Ethereum</td>\n",
       "    </tr>\n",
       "    <tr>\n",
       "      <th>4932</th>\n",
       "      <td>leo-token</td>\n",
       "      <td>leo</td>\n",
       "      <td>LEO Token</td>\n",
       "    </tr>\n",
       "    <tr>\n",
       "      <th>7981</th>\n",
       "      <td>solana</td>\n",
       "      <td>sol</td>\n",
       "      <td>Solana</td>\n",
       "    </tr>\n",
       "    <tr>\n",
       "      <th>8599</th>\n",
       "      <td>tether</td>\n",
       "      <td>usdt</td>\n",
       "      <td>Tether</td>\n",
       "    </tr>\n",
       "    <tr>\n",
       "      <th>9046</th>\n",
       "      <td>uniswap</td>\n",
       "      <td>uni</td>\n",
       "      <td>Uniswap</td>\n",
       "    </tr>\n",
       "    <tr>\n",
       "      <th>9111</th>\n",
       "      <td>usd-coin</td>\n",
       "      <td>usdc</td>\n",
       "      <td>USD Coin</td>\n",
       "    </tr>\n",
       "  </tbody>\n",
       "</table>\n",
       "</div>"
      ],
      "text/plain": [
       "               id symbol       name\n",
       "1085  binancecoin    bnb        BNB\n",
       "1140      bitcoin    btc    Bitcoin\n",
       "1605      cardano    ada    Cardano\n",
       "2299          dai    dai        Dai\n",
       "3075     ethereum    eth   Ethereum\n",
       "4932    leo-token    leo  LEO Token\n",
       "7981       solana    sol     Solana\n",
       "8599       tether   usdt     Tether\n",
       "9046      uniswap    uni    Uniswap\n",
       "9111     usd-coin   usdc   USD Coin"
      ]
     },
     "execution_count": 464,
     "metadata": {},
     "output_type": "execute_result"
    }
   ],
   "source": [
    "nombres_filtrar=['USD Coin','Dai','Tether','Bitcoin','BNB','Cardano','Ethereum','LEO Token','Solana','Uniswap']\n",
    "criptos = df1[df1['name'].isin(nombres_filtrar)]\n",
    "criptos"
   ]
  },
  {
   "cell_type": "markdown",
   "metadata": {},
   "source": [
    "### Generando Datos para las diferentes Criptos Seleccionadas:"
   ]
  },
  {
   "cell_type": "markdown",
   "metadata": {},
   "source": [
    "Obtenga datos de mercado históricos que incluyen precio, capitalización de mercado y volumen de 24 horas dentro de un rango de marca de tiempo (granularidad automática)"
   ]
  },
  {
   "cell_type": "code",
   "execution_count": 267,
   "metadata": {},
   "outputs": [],
   "source": [
    "def get_coin_market_chart_range_by_id(id:str,markert_chart:str,to:str,From:str):\n",
    "    ''' Ejem: id = Bitcoin , markert_chart = usd, to = 1660539600, from = 1692079200 '''\n",
    "    return cg.get_coin_market_chart_range_by_id(id,markert_chart,to,From)"
   ]
  },
  {
   "cell_type": "code",
   "execution_count": 407,
   "metadata": {},
   "outputs": [
    {
     "name": "stdout",
     "output_type": "stream",
     "text": [
      "2022-08-16 00:00:00\n"
     ]
    }
   ],
   "source": [
    "from datetime import datetime\n",
    "#2022-08-15 05:00:00 ----> 1660539600\n",
    "#2023-08-15 06:00:00 ----> 1692079200\n",
    "timestamp = 1660608000\n",
    "\n",
    "# Convertir el timestamp a una fecha legible\n",
    "fecha_legible = datetime.utcfromtimestamp(timestamp).strftime('%Y-%m-%d %H:%M:%S')\n",
    "\n",
    "print(fecha_legible)"
   ]
  },
  {
   "cell_type": "markdown",
   "metadata": {},
   "source": [
    "Bitcoin"
   ]
  },
  {
   "cell_type": "code",
   "execution_count": 429,
   "metadata": {},
   "outputs": [
    {
     "data": {
      "text/html": [
       "<div>\n",
       "<style scoped>\n",
       "    .dataframe tbody tr th:only-of-type {\n",
       "        vertical-align: middle;\n",
       "    }\n",
       "\n",
       "    .dataframe tbody tr th {\n",
       "        vertical-align: top;\n",
       "    }\n",
       "\n",
       "    .dataframe thead th {\n",
       "        text-align: right;\n",
       "    }\n",
       "</style>\n",
       "<table border=\"1\" class=\"dataframe\">\n",
       "  <thead>\n",
       "    <tr style=\"text-align: right;\">\n",
       "      <th></th>\n",
       "      <th>prices</th>\n",
       "      <th>market_caps</th>\n",
       "      <th>total_volumes</th>\n",
       "    </tr>\n",
       "  </thead>\n",
       "  <tbody>\n",
       "    <tr>\n",
       "      <th>165</th>\n",
       "      <td>[1674864000000, 23082.858382122955]</td>\n",
       "      <td>[1674864000000, 444898315874.05536]</td>\n",
       "      <td>[1674864000000, 36109035905.258965]</td>\n",
       "    </tr>\n",
       "    <tr>\n",
       "      <th>8</th>\n",
       "      <td>[1661299200000, 21562.45153991356]</td>\n",
       "      <td>[1661299200000, 412338357271.39594]</td>\n",
       "      <td>[1661299200000, 29331102121.793316]</td>\n",
       "    </tr>\n",
       "    <tr>\n",
       "      <th>100</th>\n",
       "      <td>[1669248000000, 16608.00998544357]</td>\n",
       "      <td>[1669248000000, 319494112507.07404]</td>\n",
       "      <td>[1669248000000, 26858079944.170044]</td>\n",
       "    </tr>\n",
       "  </tbody>\n",
       "</table>\n",
       "</div>"
      ],
      "text/plain": [
       "                                  prices                          market_caps  \\\n",
       "165  [1674864000000, 23082.858382122955]  [1674864000000, 444898315874.05536]   \n",
       "8     [1661299200000, 21562.45153991356]  [1661299200000, 412338357271.39594]   \n",
       "100   [1669248000000, 16608.00998544357]  [1669248000000, 319494112507.07404]   \n",
       "\n",
       "                           total_volumes  \n",
       "165  [1674864000000, 36109035905.258965]  \n",
       "8    [1661299200000, 29331102121.793316]  \n",
       "100  [1669248000000, 26858079944.170044]  "
      ]
     },
     "execution_count": 429,
     "metadata": {},
     "output_type": "execute_result"
    }
   ],
   "source": [
    "gcmcrange=get_coin_market_chart_range_by_id('bitcoin','usd','1660539600','1692079200')\n",
    "df_bitcoin_market=pd.DataFrame(gcmcrange)\n",
    "df_bitcoin_market.sample(3)"
   ]
  },
  {
   "cell_type": "code",
   "execution_count": 430,
   "metadata": {},
   "outputs": [],
   "source": [
    "def extract_unix_timestamp(item):\n",
    "    fecha_ilegible= item[0] // 1000  # Dividir por 1000 para obtener 10 dígitos\n",
    "    fecha_legible = datetime.utcfromtimestamp(fecha_ilegible).strftime('%Y-%m-%d')\n",
    "    return fecha_legible"
   ]
  },
  {
   "cell_type": "code",
   "execution_count": 431,
   "metadata": {},
   "outputs": [],
   "source": [
    "df_bitcoin_market['fechas'] = df_bitcoin_market['prices'].apply(extract_unix_timestamp)"
   ]
  },
  {
   "cell_type": "code",
   "execution_count": 432,
   "metadata": {},
   "outputs": [
    {
     "data": {
      "text/html": [
       "<div>\n",
       "<style scoped>\n",
       "    .dataframe tbody tr th:only-of-type {\n",
       "        vertical-align: middle;\n",
       "    }\n",
       "\n",
       "    .dataframe tbody tr th {\n",
       "        vertical-align: top;\n",
       "    }\n",
       "\n",
       "    .dataframe thead th {\n",
       "        text-align: right;\n",
       "    }\n",
       "</style>\n",
       "<table border=\"1\" class=\"dataframe\">\n",
       "  <thead>\n",
       "    <tr style=\"text-align: right;\">\n",
       "      <th></th>\n",
       "      <th>prices</th>\n",
       "      <th>market_caps</th>\n",
       "      <th>total_volumes</th>\n",
       "      <th>fechas</th>\n",
       "    </tr>\n",
       "  </thead>\n",
       "  <tbody>\n",
       "    <tr>\n",
       "      <th>255</th>\n",
       "      <td>[1682640000000, 29483.52170499186]</td>\n",
       "      <td>[1682640000000, 570258039118.5771]</td>\n",
       "      <td>[1682640000000, 26238597379.49954]</td>\n",
       "      <td>2023-04-28</td>\n",
       "    </tr>\n",
       "    <tr>\n",
       "      <th>339</th>\n",
       "      <td>[1689897600000, 29787.041530355687]</td>\n",
       "      <td>[1689897600000, 579308712612.258]</td>\n",
       "      <td>[1689897600000, 11117456853.464512]</td>\n",
       "      <td>2023-07-21</td>\n",
       "    </tr>\n",
       "    <tr>\n",
       "      <th>356</th>\n",
       "      <td>[1691366400000, 29044.204375577556]</td>\n",
       "      <td>[1691366400000, 564947914083.0184]</td>\n",
       "      <td>[1691366400000, 5360283576.269965]</td>\n",
       "      <td>2023-08-07</td>\n",
       "    </tr>\n",
       "  </tbody>\n",
       "</table>\n",
       "</div>"
      ],
      "text/plain": [
       "                                  prices                         market_caps  \\\n",
       "255   [1682640000000, 29483.52170499186]  [1682640000000, 570258039118.5771]   \n",
       "339  [1689897600000, 29787.041530355687]   [1689897600000, 579308712612.258]   \n",
       "356  [1691366400000, 29044.204375577556]  [1691366400000, 564947914083.0184]   \n",
       "\n",
       "                           total_volumes      fechas  \n",
       "255   [1682640000000, 26238597379.49954]  2023-04-28  \n",
       "339  [1689897600000, 11117456853.464512]  2023-07-21  \n",
       "356   [1691366400000, 5360283576.269965]  2023-08-07  "
      ]
     },
     "execution_count": 432,
     "metadata": {},
     "output_type": "execute_result"
    }
   ],
   "source": [
    "df_bitcoin_market.sample(3)"
   ]
  },
  {
   "cell_type": "code",
   "execution_count": 433,
   "metadata": {},
   "outputs": [],
   "source": [
    "def remove_unix_timestamp(item):\n",
    "    return item[1]"
   ]
  },
  {
   "cell_type": "code",
   "execution_count": 434,
   "metadata": {},
   "outputs": [],
   "source": [
    "for i in df_bitcoin_market:\n",
    "    df_bitcoin_market[i+'new'] = df_bitcoin_market[i].apply(remove_unix_timestamp)\n",
    "\n",
    "columnas_a_eliminar = ['prices', 'market_caps','total_volumes','fechasnew']\n",
    "df_bitcoin_market=df_bitcoin_market.drop(columns= columnas_a_eliminar)\n"
   ]
  },
  {
   "cell_type": "code",
   "execution_count": 435,
   "metadata": {},
   "outputs": [
    {
     "data": {
      "text/html": [
       "<div>\n",
       "<style scoped>\n",
       "    .dataframe tbody tr th:only-of-type {\n",
       "        vertical-align: middle;\n",
       "    }\n",
       "\n",
       "    .dataframe tbody tr th {\n",
       "        vertical-align: top;\n",
       "    }\n",
       "\n",
       "    .dataframe thead th {\n",
       "        text-align: right;\n",
       "    }\n",
       "</style>\n",
       "<table border=\"1\" class=\"dataframe\">\n",
       "  <thead>\n",
       "    <tr style=\"text-align: right;\">\n",
       "      <th></th>\n",
       "      <th>Cripto</th>\n",
       "      <th>fechas</th>\n",
       "      <th>pricesnew</th>\n",
       "      <th>market_capsnew</th>\n",
       "      <th>total_volumesnew</th>\n",
       "    </tr>\n",
       "  </thead>\n",
       "  <tbody>\n",
       "    <tr>\n",
       "      <th>170</th>\n",
       "      <td>bitcoin</td>\n",
       "      <td>2023-02-02</td>\n",
       "      <td>23725.161796</td>\n",
       "      <td>4.573831e+11</td>\n",
       "      <td>3.745206e+10</td>\n",
       "    </tr>\n",
       "    <tr>\n",
       "      <th>51</th>\n",
       "      <td>bitcoin</td>\n",
       "      <td>2022-10-06</td>\n",
       "      <td>20161.830615</td>\n",
       "      <td>3.863689e+11</td>\n",
       "      <td>2.936634e+10</td>\n",
       "    </tr>\n",
       "    <tr>\n",
       "      <th>44</th>\n",
       "      <td>bitcoin</td>\n",
       "      <td>2022-09-29</td>\n",
       "      <td>19444.787771</td>\n",
       "      <td>3.728921e+11</td>\n",
       "      <td>4.749426e+10</td>\n",
       "    </tr>\n",
       "  </tbody>\n",
       "</table>\n",
       "</div>"
      ],
      "text/plain": [
       "      Cripto      fechas     pricesnew  market_capsnew  total_volumesnew\n",
       "170  bitcoin  2023-02-02  23725.161796    4.573831e+11      3.745206e+10\n",
       "51   bitcoin  2022-10-06  20161.830615    3.863689e+11      2.936634e+10\n",
       "44   bitcoin  2022-09-29  19444.787771    3.728921e+11      4.749426e+10"
      ]
     },
     "execution_count": 435,
     "metadata": {},
     "output_type": "execute_result"
    }
   ],
   "source": [
    "df_bitcoin_market.insert(0, 'Cripto', 'bitcoin')\n",
    "df_bitcoin_market.sample(3)"
   ]
  },
  {
   "cell_type": "markdown",
   "metadata": {},
   "source": [
    "binancecoin"
   ]
  },
  {
   "cell_type": "code",
   "execution_count": 436,
   "metadata": {},
   "outputs": [
    {
     "data": {
      "text/html": [
       "<div>\n",
       "<style scoped>\n",
       "    .dataframe tbody tr th:only-of-type {\n",
       "        vertical-align: middle;\n",
       "    }\n",
       "\n",
       "    .dataframe tbody tr th {\n",
       "        vertical-align: top;\n",
       "    }\n",
       "\n",
       "    .dataframe thead th {\n",
       "        text-align: right;\n",
       "    }\n",
       "</style>\n",
       "<table border=\"1\" class=\"dataframe\">\n",
       "  <thead>\n",
       "    <tr style=\"text-align: right;\">\n",
       "      <th></th>\n",
       "      <th>Cripto</th>\n",
       "      <th>fechas</th>\n",
       "      <th>pricesnew</th>\n",
       "      <th>market_capsnew</th>\n",
       "      <th>total_volumesnew</th>\n",
       "    </tr>\n",
       "  </thead>\n",
       "  <tbody>\n",
       "    <tr>\n",
       "      <th>266</th>\n",
       "      <td>binancecoin</td>\n",
       "      <td>2023-05-09</td>\n",
       "      <td>313.941569</td>\n",
       "      <td>4.954905e+10</td>\n",
       "      <td>6.215249e+08</td>\n",
       "    </tr>\n",
       "    <tr>\n",
       "      <th>131</th>\n",
       "      <td>binancecoin</td>\n",
       "      <td>2022-12-25</td>\n",
       "      <td>244.742294</td>\n",
       "      <td>3.995671e+10</td>\n",
       "      <td>2.634458e+08</td>\n",
       "    </tr>\n",
       "    <tr>\n",
       "      <th>357</th>\n",
       "      <td>binancecoin</td>\n",
       "      <td>2023-08-08</td>\n",
       "      <td>241.738425</td>\n",
       "      <td>3.717691e+10</td>\n",
       "      <td>4.101204e+08</td>\n",
       "    </tr>\n",
       "  </tbody>\n",
       "</table>\n",
       "</div>"
      ],
      "text/plain": [
       "          Cripto      fechas   pricesnew  market_capsnew  total_volumesnew\n",
       "266  binancecoin  2023-05-09  313.941569    4.954905e+10      6.215249e+08\n",
       "131  binancecoin  2022-12-25  244.742294    3.995671e+10      2.634458e+08\n",
       "357  binancecoin  2023-08-08  241.738425    3.717691e+10      4.101204e+08"
      ]
     },
     "execution_count": 436,
     "metadata": {},
     "output_type": "execute_result"
    }
   ],
   "source": [
    "#Creación DataFrame\n",
    "gcmcrange=get_coin_market_chart_range_by_id('binancecoin','usd','1660539600','1692079200')\n",
    "df_binancecoin_market=pd.DataFrame(gcmcrange)\n",
    "#Extracción Fechas:\n",
    "df_binancecoin_market['fechas'] = df_binancecoin_market['prices'].apply(extract_unix_timestamp)\n",
    "#Remove Unix Time\n",
    "for i in df_binancecoin_market:\n",
    "    df_binancecoin_market[i+'new'] = df_binancecoin_market[i].apply(remove_unix_timestamp)\n",
    "\n",
    "columnas_a_eliminar = ['prices', 'market_caps','total_volumes','fechasnew']\n",
    "df_binancecoin_market=df_binancecoin_market.drop(columns= columnas_a_eliminar)\n",
    "#Agregando Columna con ID \n",
    "df_binancecoin_market.insert(0, 'Cripto', 'binancecoin')\n",
    "df_binancecoin_market.sample(3)"
   ]
  },
  {
   "cell_type": "markdown",
   "metadata": {},
   "source": [
    "cardano"
   ]
  },
  {
   "cell_type": "code",
   "execution_count": 438,
   "metadata": {},
   "outputs": [
    {
     "data": {
      "text/html": [
       "<div>\n",
       "<style scoped>\n",
       "    .dataframe tbody tr th:only-of-type {\n",
       "        vertical-align: middle;\n",
       "    }\n",
       "\n",
       "    .dataframe tbody tr th {\n",
       "        vertical-align: top;\n",
       "    }\n",
       "\n",
       "    .dataframe thead th {\n",
       "        text-align: right;\n",
       "    }\n",
       "</style>\n",
       "<table border=\"1\" class=\"dataframe\">\n",
       "  <thead>\n",
       "    <tr style=\"text-align: right;\">\n",
       "      <th></th>\n",
       "      <th>Cripto</th>\n",
       "      <th>fechas</th>\n",
       "      <th>pricesnew</th>\n",
       "      <th>market_capsnew</th>\n",
       "      <th>total_volumesnew</th>\n",
       "    </tr>\n",
       "  </thead>\n",
       "  <tbody>\n",
       "    <tr>\n",
       "      <th>268</th>\n",
       "      <td>cardano</td>\n",
       "      <td>2023-05-11</td>\n",
       "      <td>0.370609</td>\n",
       "      <td>1.297544e+10</td>\n",
       "      <td>3.655594e+08</td>\n",
       "    </tr>\n",
       "    <tr>\n",
       "      <th>178</th>\n",
       "      <td>cardano</td>\n",
       "      <td>2023-02-10</td>\n",
       "      <td>0.362532</td>\n",
       "      <td>1.270064e+10</td>\n",
       "      <td>4.909103e+08</td>\n",
       "    </tr>\n",
       "    <tr>\n",
       "      <th>56</th>\n",
       "      <td>cardano</td>\n",
       "      <td>2022-10-11</td>\n",
       "      <td>0.402073</td>\n",
       "      <td>1.365334e+10</td>\n",
       "      <td>4.337278e+08</td>\n",
       "    </tr>\n",
       "  </tbody>\n",
       "</table>\n",
       "</div>"
      ],
      "text/plain": [
       "      Cripto      fechas  pricesnew  market_capsnew  total_volumesnew\n",
       "268  cardano  2023-05-11   0.370609    1.297544e+10      3.655594e+08\n",
       "178  cardano  2023-02-10   0.362532    1.270064e+10      4.909103e+08\n",
       "56   cardano  2022-10-11   0.402073    1.365334e+10      4.337278e+08"
      ]
     },
     "execution_count": 438,
     "metadata": {},
     "output_type": "execute_result"
    }
   ],
   "source": [
    "#Creación DataFrame\n",
    "gcmcrange=get_coin_market_chart_range_by_id('cardano','usd','1660539600','1692079200')\n",
    "df_cardano_market=pd.DataFrame(gcmcrange)\n",
    "#Extracción Fechas:\n",
    "df_cardano_market['fechas'] = df_cardano_market['prices'].apply(extract_unix_timestamp)\n",
    "#Remove Unix Time\n",
    "for i in df_cardano_market:\n",
    "    df_cardano_market[i+'new'] = df_cardano_market[i].apply(remove_unix_timestamp)\n",
    "\n",
    "columnas_a_eliminar = ['prices', 'market_caps','total_volumes','fechasnew']\n",
    "df_cardano_market=df_cardano_market.drop(columns= columnas_a_eliminar)\n",
    "#Agregando Columna con ID \n",
    "df_cardano_market.insert(0, 'Cripto', 'cardano')\n",
    "df_cardano_market.sample(3)"
   ]
  },
  {
   "cell_type": "markdown",
   "metadata": {},
   "source": [
    "dai"
   ]
  },
  {
   "cell_type": "code",
   "execution_count": 439,
   "metadata": {},
   "outputs": [
    {
     "data": {
      "text/html": [
       "<div>\n",
       "<style scoped>\n",
       "    .dataframe tbody tr th:only-of-type {\n",
       "        vertical-align: middle;\n",
       "    }\n",
       "\n",
       "    .dataframe tbody tr th {\n",
       "        vertical-align: top;\n",
       "    }\n",
       "\n",
       "    .dataframe thead th {\n",
       "        text-align: right;\n",
       "    }\n",
       "</style>\n",
       "<table border=\"1\" class=\"dataframe\">\n",
       "  <thead>\n",
       "    <tr style=\"text-align: right;\">\n",
       "      <th></th>\n",
       "      <th>Cripto</th>\n",
       "      <th>fechas</th>\n",
       "      <th>pricesnew</th>\n",
       "      <th>market_capsnew</th>\n",
       "      <th>total_volumesnew</th>\n",
       "    </tr>\n",
       "  </thead>\n",
       "  <tbody>\n",
       "    <tr>\n",
       "      <th>343</th>\n",
       "      <td>dai</td>\n",
       "      <td>2023-07-25</td>\n",
       "      <td>1.000227</td>\n",
       "      <td>4.201417e+09</td>\n",
       "      <td>8.382862e+07</td>\n",
       "    </tr>\n",
       "    <tr>\n",
       "      <th>88</th>\n",
       "      <td>dai</td>\n",
       "      <td>2022-11-12</td>\n",
       "      <td>1.004833</td>\n",
       "      <td>5.401442e+09</td>\n",
       "      <td>6.836373e+08</td>\n",
       "    </tr>\n",
       "    <tr>\n",
       "      <th>306</th>\n",
       "      <td>dai</td>\n",
       "      <td>2023-06-18</td>\n",
       "      <td>0.999031</td>\n",
       "      <td>4.412437e+09</td>\n",
       "      <td>9.684355e+07</td>\n",
       "    </tr>\n",
       "  </tbody>\n",
       "</table>\n",
       "</div>"
      ],
      "text/plain": [
       "    Cripto      fechas  pricesnew  market_capsnew  total_volumesnew\n",
       "343    dai  2023-07-25   1.000227    4.201417e+09      8.382862e+07\n",
       "88     dai  2022-11-12   1.004833    5.401442e+09      6.836373e+08\n",
       "306    dai  2023-06-18   0.999031    4.412437e+09      9.684355e+07"
      ]
     },
     "execution_count": 439,
     "metadata": {},
     "output_type": "execute_result"
    }
   ],
   "source": [
    "#Creación DataFrame\n",
    "gcmcrange=get_coin_market_chart_range_by_id('dai','usd','1660539600','1692079200')\n",
    "df_dai_market=pd.DataFrame(gcmcrange)\n",
    "#Extracción Fechas:\n",
    "df_dai_market['fechas'] = df_dai_market['prices'].apply(extract_unix_timestamp)\n",
    "#Remove Unix Time\n",
    "for i in df_dai_market:\n",
    "    df_dai_market[i+'new'] = df_dai_market[i].apply(remove_unix_timestamp)\n",
    "\n",
    "columnas_a_eliminar = ['prices', 'market_caps','total_volumes','fechasnew']\n",
    "df_dai_market=df_dai_market.drop(columns= columnas_a_eliminar)\n",
    "#Agregando Columna con ID \n",
    "df_dai_market.insert(0, 'Cripto', 'dai')\n",
    "df_dai_market.sample(3)"
   ]
  },
  {
   "cell_type": "markdown",
   "metadata": {},
   "source": [
    "ethereum"
   ]
  },
  {
   "cell_type": "code",
   "execution_count": 441,
   "metadata": {},
   "outputs": [
    {
     "data": {
      "text/html": [
       "<div>\n",
       "<style scoped>\n",
       "    .dataframe tbody tr th:only-of-type {\n",
       "        vertical-align: middle;\n",
       "    }\n",
       "\n",
       "    .dataframe tbody tr th {\n",
       "        vertical-align: top;\n",
       "    }\n",
       "\n",
       "    .dataframe thead th {\n",
       "        text-align: right;\n",
       "    }\n",
       "</style>\n",
       "<table border=\"1\" class=\"dataframe\">\n",
       "  <thead>\n",
       "    <tr style=\"text-align: right;\">\n",
       "      <th></th>\n",
       "      <th>Cripto</th>\n",
       "      <th>fechas</th>\n",
       "      <th>pricesnew</th>\n",
       "      <th>market_capsnew</th>\n",
       "      <th>total_volumesnew</th>\n",
       "    </tr>\n",
       "  </thead>\n",
       "  <tbody>\n",
       "    <tr>\n",
       "      <th>184</th>\n",
       "      <td>ethereum</td>\n",
       "      <td>2023-02-16</td>\n",
       "      <td>1674.858207</td>\n",
       "      <td>2.015953e+11</td>\n",
       "      <td>1.107923e+10</td>\n",
       "    </tr>\n",
       "    <tr>\n",
       "      <th>61</th>\n",
       "      <td>ethereum</td>\n",
       "      <td>2022-10-16</td>\n",
       "      <td>1275.693777</td>\n",
       "      <td>1.544961e+11</td>\n",
       "      <td>5.743907e+09</td>\n",
       "    </tr>\n",
       "    <tr>\n",
       "      <th>316</th>\n",
       "      <td>ethereum</td>\n",
       "      <td>2023-06-28</td>\n",
       "      <td>1890.012904</td>\n",
       "      <td>2.271431e+11</td>\n",
       "      <td>8.806435e+09</td>\n",
       "    </tr>\n",
       "  </tbody>\n",
       "</table>\n",
       "</div>"
      ],
      "text/plain": [
       "       Cripto      fechas    pricesnew  market_capsnew  total_volumesnew\n",
       "184  ethereum  2023-02-16  1674.858207    2.015953e+11      1.107923e+10\n",
       "61   ethereum  2022-10-16  1275.693777    1.544961e+11      5.743907e+09\n",
       "316  ethereum  2023-06-28  1890.012904    2.271431e+11      8.806435e+09"
      ]
     },
     "execution_count": 441,
     "metadata": {},
     "output_type": "execute_result"
    }
   ],
   "source": [
    "#Creación DataFrame\n",
    "gcmcrange=get_coin_market_chart_range_by_id('ethereum','usd','1660539600','1692079200')\n",
    "df_ethereum_market=pd.DataFrame(gcmcrange)\n",
    "#Extracción Fechas:\n",
    "df_ethereum_market['fechas'] = df_ethereum_market['prices'].apply(extract_unix_timestamp)\n",
    "#Remove Unix Time\n",
    "for i in df_ethereum_market:\n",
    "    df_ethereum_market[i+'new'] = df_ethereum_market[i].apply(remove_unix_timestamp)\n",
    "\n",
    "columnas_a_eliminar = ['prices', 'market_caps','total_volumes','fechasnew']\n",
    "df_ethereum_market=df_ethereum_market.drop(columns= columnas_a_eliminar)\n",
    "#Agregando Columna con ID \n",
    "df_ethereum_market.insert(0, 'Cripto', 'ethereum')\n",
    "df_ethereum_market.sample(3)"
   ]
  },
  {
   "cell_type": "markdown",
   "metadata": {},
   "source": [
    "leo-token"
   ]
  },
  {
   "cell_type": "code",
   "execution_count": 442,
   "metadata": {},
   "outputs": [
    {
     "data": {
      "text/html": [
       "<div>\n",
       "<style scoped>\n",
       "    .dataframe tbody tr th:only-of-type {\n",
       "        vertical-align: middle;\n",
       "    }\n",
       "\n",
       "    .dataframe tbody tr th {\n",
       "        vertical-align: top;\n",
       "    }\n",
       "\n",
       "    .dataframe thead th {\n",
       "        text-align: right;\n",
       "    }\n",
       "</style>\n",
       "<table border=\"1\" class=\"dataframe\">\n",
       "  <thead>\n",
       "    <tr style=\"text-align: right;\">\n",
       "      <th></th>\n",
       "      <th>Cripto</th>\n",
       "      <th>fechas</th>\n",
       "      <th>pricesnew</th>\n",
       "      <th>market_capsnew</th>\n",
       "      <th>total_volumesnew</th>\n",
       "    </tr>\n",
       "  </thead>\n",
       "  <tbody>\n",
       "    <tr>\n",
       "      <th>221</th>\n",
       "      <td>leo-token</td>\n",
       "      <td>2023-03-25</td>\n",
       "      <td>3.472759</td>\n",
       "      <td>3.227618e+09</td>\n",
       "      <td>6.903035e+05</td>\n",
       "    </tr>\n",
       "    <tr>\n",
       "      <th>282</th>\n",
       "      <td>leo-token</td>\n",
       "      <td>2023-05-25</td>\n",
       "      <td>3.539751</td>\n",
       "      <td>3.295603e+09</td>\n",
       "      <td>2.160402e+05</td>\n",
       "    </tr>\n",
       "    <tr>\n",
       "      <th>357</th>\n",
       "      <td>leo-token</td>\n",
       "      <td>2023-08-08</td>\n",
       "      <td>4.001995</td>\n",
       "      <td>3.712019e+09</td>\n",
       "      <td>1.138134e+06</td>\n",
       "    </tr>\n",
       "  </tbody>\n",
       "</table>\n",
       "</div>"
      ],
      "text/plain": [
       "        Cripto      fechas  pricesnew  market_capsnew  total_volumesnew\n",
       "221  leo-token  2023-03-25   3.472759    3.227618e+09      6.903035e+05\n",
       "282  leo-token  2023-05-25   3.539751    3.295603e+09      2.160402e+05\n",
       "357  leo-token  2023-08-08   4.001995    3.712019e+09      1.138134e+06"
      ]
     },
     "execution_count": 442,
     "metadata": {},
     "output_type": "execute_result"
    }
   ],
   "source": [
    "#Creación DataFrame\n",
    "gcmcrange=get_coin_market_chart_range_by_id('leo-token','usd','1660539600','1692079200')\n",
    "df_leo_token_market=pd.DataFrame(gcmcrange)\n",
    "#Extracción Fechas:\n",
    "df_leo_token_market['fechas'] = df_leo_token_market['prices'].apply(extract_unix_timestamp)\n",
    "#Remove Unix Time\n",
    "for i in df_leo_token_market:\n",
    "    df_leo_token_market[i+'new'] = df_leo_token_market[i].apply(remove_unix_timestamp)\n",
    "\n",
    "columnas_a_eliminar = ['prices', 'market_caps','total_volumes','fechasnew']\n",
    "df_leo_token_market=df_leo_token_market.drop(columns= columnas_a_eliminar)\n",
    "#Agregando Columna con ID \n",
    "df_leo_token_market.insert(0, 'Cripto', 'leo-token')\n",
    "df_leo_token_market.sample(3)"
   ]
  },
  {
   "cell_type": "markdown",
   "metadata": {},
   "source": [
    "solana"
   ]
  },
  {
   "cell_type": "code",
   "execution_count": 443,
   "metadata": {},
   "outputs": [
    {
     "data": {
      "text/html": [
       "<div>\n",
       "<style scoped>\n",
       "    .dataframe tbody tr th:only-of-type {\n",
       "        vertical-align: middle;\n",
       "    }\n",
       "\n",
       "    .dataframe tbody tr th {\n",
       "        vertical-align: top;\n",
       "    }\n",
       "\n",
       "    .dataframe thead th {\n",
       "        text-align: right;\n",
       "    }\n",
       "</style>\n",
       "<table border=\"1\" class=\"dataframe\">\n",
       "  <thead>\n",
       "    <tr style=\"text-align: right;\">\n",
       "      <th></th>\n",
       "      <th>Cripto</th>\n",
       "      <th>fechas</th>\n",
       "      <th>pricesnew</th>\n",
       "      <th>market_capsnew</th>\n",
       "      <th>total_volumesnew</th>\n",
       "    </tr>\n",
       "  </thead>\n",
       "  <tbody>\n",
       "    <tr>\n",
       "      <th>136</th>\n",
       "      <td>solana</td>\n",
       "      <td>2022-12-30</td>\n",
       "      <td>9.597795</td>\n",
       "      <td>3.537484e+09</td>\n",
       "      <td>8.383178e+08</td>\n",
       "    </tr>\n",
       "    <tr>\n",
       "      <th>320</th>\n",
       "      <td>solana</td>\n",
       "      <td>2023-07-02</td>\n",
       "      <td>18.612770</td>\n",
       "      <td>7.437497e+09</td>\n",
       "      <td>2.807187e+08</td>\n",
       "    </tr>\n",
       "    <tr>\n",
       "      <th>98</th>\n",
       "      <td>solana</td>\n",
       "      <td>2022-11-22</td>\n",
       "      <td>11.918134</td>\n",
       "      <td>4.319146e+09</td>\n",
       "      <td>4.848047e+08</td>\n",
       "    </tr>\n",
       "  </tbody>\n",
       "</table>\n",
       "</div>"
      ],
      "text/plain": [
       "     Cripto      fechas  pricesnew  market_capsnew  total_volumesnew\n",
       "136  solana  2022-12-30   9.597795    3.537484e+09      8.383178e+08\n",
       "320  solana  2023-07-02  18.612770    7.437497e+09      2.807187e+08\n",
       "98   solana  2022-11-22  11.918134    4.319146e+09      4.848047e+08"
      ]
     },
     "execution_count": 443,
     "metadata": {},
     "output_type": "execute_result"
    }
   ],
   "source": [
    "#Creación DataFrame\n",
    "gcmcrange=get_coin_market_chart_range_by_id('solana','usd','1660539600','1692079200')\n",
    "df_solana_market=pd.DataFrame(gcmcrange)\n",
    "#Extracción Fechas:\n",
    "df_solana_market['fechas'] = df_solana_market['prices'].apply(extract_unix_timestamp)\n",
    "#Remove Unix Time\n",
    "for i in df_solana_market:\n",
    "    df_solana_market[i+'new'] = df_solana_market[i].apply(remove_unix_timestamp)\n",
    "\n",
    "columnas_a_eliminar = ['prices', 'market_caps','total_volumes','fechasnew']\n",
    "df_solana_market=df_solana_market.drop(columns= columnas_a_eliminar)\n",
    "#Agregando Columna con ID \n",
    "df_solana_market.insert(0, 'Cripto', 'solana')\n",
    "df_solana_market.sample(3)"
   ]
  },
  {
   "cell_type": "markdown",
   "metadata": {},
   "source": [
    "tether"
   ]
  },
  {
   "cell_type": "code",
   "execution_count": 444,
   "metadata": {},
   "outputs": [
    {
     "data": {
      "text/html": [
       "<div>\n",
       "<style scoped>\n",
       "    .dataframe tbody tr th:only-of-type {\n",
       "        vertical-align: middle;\n",
       "    }\n",
       "\n",
       "    .dataframe tbody tr th {\n",
       "        vertical-align: top;\n",
       "    }\n",
       "\n",
       "    .dataframe thead th {\n",
       "        text-align: right;\n",
       "    }\n",
       "</style>\n",
       "<table border=\"1\" class=\"dataframe\">\n",
       "  <thead>\n",
       "    <tr style=\"text-align: right;\">\n",
       "      <th></th>\n",
       "      <th>Cripto</th>\n",
       "      <th>fechas</th>\n",
       "      <th>pricesnew</th>\n",
       "      <th>market_capsnew</th>\n",
       "      <th>total_volumesnew</th>\n",
       "    </tr>\n",
       "  </thead>\n",
       "  <tbody>\n",
       "    <tr>\n",
       "      <th>294</th>\n",
       "      <td>tether</td>\n",
       "      <td>2023-06-06</td>\n",
       "      <td>1.001460</td>\n",
       "      <td>8.321468e+10</td>\n",
       "      <td>2.060696e+10</td>\n",
       "    </tr>\n",
       "    <tr>\n",
       "      <th>283</th>\n",
       "      <td>tether</td>\n",
       "      <td>2023-05-26</td>\n",
       "      <td>0.999855</td>\n",
       "      <td>8.305043e+10</td>\n",
       "      <td>2.062680e+10</td>\n",
       "    </tr>\n",
       "    <tr>\n",
       "      <th>331</th>\n",
       "      <td>tether</td>\n",
       "      <td>2023-07-13</td>\n",
       "      <td>1.000507</td>\n",
       "      <td>8.340328e+10</td>\n",
       "      <td>1.790632e+10</td>\n",
       "    </tr>\n",
       "  </tbody>\n",
       "</table>\n",
       "</div>"
      ],
      "text/plain": [
       "     Cripto      fechas  pricesnew  market_capsnew  total_volumesnew\n",
       "294  tether  2023-06-06   1.001460    8.321468e+10      2.060696e+10\n",
       "283  tether  2023-05-26   0.999855    8.305043e+10      2.062680e+10\n",
       "331  tether  2023-07-13   1.000507    8.340328e+10      1.790632e+10"
      ]
     },
     "execution_count": 444,
     "metadata": {},
     "output_type": "execute_result"
    }
   ],
   "source": [
    "#Creación DataFrame\n",
    "gcmcrange=get_coin_market_chart_range_by_id('tether','usd','1660539600','1692079200')\n",
    "df_tether_market=pd.DataFrame(gcmcrange)\n",
    "#Extracción Fechas:\n",
    "df_tether_market['fechas'] = df_tether_market['prices'].apply(extract_unix_timestamp)\n",
    "#Remove Unix Time\n",
    "for i in df_tether_market:\n",
    "    df_tether_market[i+'new'] = df_tether_market[i].apply(remove_unix_timestamp)\n",
    "\n",
    "columnas_a_eliminar = ['prices', 'market_caps','total_volumes','fechasnew']\n",
    "df_tether_market=df_tether_market.drop(columns= columnas_a_eliminar)\n",
    "#Agregando Columna con ID \n",
    "df_tether_market.insert(0, 'Cripto', 'tether')\n",
    "df_tether_market.sample(3)"
   ]
  },
  {
   "cell_type": "markdown",
   "metadata": {},
   "source": [
    "uniswap"
   ]
  },
  {
   "cell_type": "code",
   "execution_count": 445,
   "metadata": {},
   "outputs": [
    {
     "data": {
      "text/html": [
       "<div>\n",
       "<style scoped>\n",
       "    .dataframe tbody tr th:only-of-type {\n",
       "        vertical-align: middle;\n",
       "    }\n",
       "\n",
       "    .dataframe tbody tr th {\n",
       "        vertical-align: top;\n",
       "    }\n",
       "\n",
       "    .dataframe thead th {\n",
       "        text-align: right;\n",
       "    }\n",
       "</style>\n",
       "<table border=\"1\" class=\"dataframe\">\n",
       "  <thead>\n",
       "    <tr style=\"text-align: right;\">\n",
       "      <th></th>\n",
       "      <th>Cripto</th>\n",
       "      <th>fechas</th>\n",
       "      <th>pricesnew</th>\n",
       "      <th>market_capsnew</th>\n",
       "      <th>total_volumesnew</th>\n",
       "    </tr>\n",
       "  </thead>\n",
       "  <tbody>\n",
       "    <tr>\n",
       "      <th>235</th>\n",
       "      <td>uniswap</td>\n",
       "      <td>2023-04-08</td>\n",
       "      <td>6.005197</td>\n",
       "      <td>4.528857e+09</td>\n",
       "      <td>6.481373e+07</td>\n",
       "    </tr>\n",
       "    <tr>\n",
       "      <th>45</th>\n",
       "      <td>uniswap</td>\n",
       "      <td>2022-09-30</td>\n",
       "      <td>6.366893</td>\n",
       "      <td>4.799652e+09</td>\n",
       "      <td>1.209593e+08</td>\n",
       "    </tr>\n",
       "    <tr>\n",
       "      <th>60</th>\n",
       "      <td>uniswap</td>\n",
       "      <td>2022-10-15</td>\n",
       "      <td>6.300054</td>\n",
       "      <td>4.760731e+09</td>\n",
       "      <td>1.463646e+08</td>\n",
       "    </tr>\n",
       "  </tbody>\n",
       "</table>\n",
       "</div>"
      ],
      "text/plain": [
       "      Cripto      fechas  pricesnew  market_capsnew  total_volumesnew\n",
       "235  uniswap  2023-04-08   6.005197    4.528857e+09      6.481373e+07\n",
       "45   uniswap  2022-09-30   6.366893    4.799652e+09      1.209593e+08\n",
       "60   uniswap  2022-10-15   6.300054    4.760731e+09      1.463646e+08"
      ]
     },
     "execution_count": 445,
     "metadata": {},
     "output_type": "execute_result"
    }
   ],
   "source": [
    "#Creación DataFrame\n",
    "gcmcrange=get_coin_market_chart_range_by_id('uniswap','usd','1660539600','1692079200')\n",
    "df_uniswap_market=pd.DataFrame(gcmcrange)\n",
    "#Extracción Fechas:\n",
    "df_uniswap_market['fechas'] = df_uniswap_market['prices'].apply(extract_unix_timestamp)\n",
    "#Remove Unix Time\n",
    "for i in df_uniswap_market:\n",
    "    df_uniswap_market[i+'new'] = df_uniswap_market[i].apply(remove_unix_timestamp)\n",
    "\n",
    "columnas_a_eliminar = ['prices', 'market_caps','total_volumes','fechasnew']\n",
    "df_uniswap_market=df_uniswap_market.drop(columns= columnas_a_eliminar)\n",
    "#Agregando Columna con ID \n",
    "df_uniswap_market.insert(0, 'Cripto', 'uniswap')\n",
    "df_uniswap_market.sample(3)"
   ]
  },
  {
   "cell_type": "markdown",
   "metadata": {},
   "source": [
    "usd-coin"
   ]
  },
  {
   "cell_type": "code",
   "execution_count": 446,
   "metadata": {},
   "outputs": [
    {
     "data": {
      "text/html": [
       "<div>\n",
       "<style scoped>\n",
       "    .dataframe tbody tr th:only-of-type {\n",
       "        vertical-align: middle;\n",
       "    }\n",
       "\n",
       "    .dataframe tbody tr th {\n",
       "        vertical-align: top;\n",
       "    }\n",
       "\n",
       "    .dataframe thead th {\n",
       "        text-align: right;\n",
       "    }\n",
       "</style>\n",
       "<table border=\"1\" class=\"dataframe\">\n",
       "  <thead>\n",
       "    <tr style=\"text-align: right;\">\n",
       "      <th></th>\n",
       "      <th>Cripto</th>\n",
       "      <th>fechas</th>\n",
       "      <th>pricesnew</th>\n",
       "      <th>market_capsnew</th>\n",
       "      <th>total_volumesnew</th>\n",
       "    </tr>\n",
       "  </thead>\n",
       "  <tbody>\n",
       "    <tr>\n",
       "      <th>31</th>\n",
       "      <td>usd-coin</td>\n",
       "      <td>2022-09-16</td>\n",
       "      <td>1.000285</td>\n",
       "      <td>5.036296e+10</td>\n",
       "      <td>7.489176e+09</td>\n",
       "    </tr>\n",
       "    <tr>\n",
       "      <th>77</th>\n",
       "      <td>usd-coin</td>\n",
       "      <td>2022-11-01</td>\n",
       "      <td>0.999732</td>\n",
       "      <td>4.340496e+10</td>\n",
       "      <td>5.242404e+09</td>\n",
       "    </tr>\n",
       "    <tr>\n",
       "      <th>250</th>\n",
       "      <td>usd-coin</td>\n",
       "      <td>2023-04-23</td>\n",
       "      <td>1.001342</td>\n",
       "      <td>3.080082e+10</td>\n",
       "      <td>3.156943e+09</td>\n",
       "    </tr>\n",
       "  </tbody>\n",
       "</table>\n",
       "</div>"
      ],
      "text/plain": [
       "       Cripto      fechas  pricesnew  market_capsnew  total_volumesnew\n",
       "31   usd-coin  2022-09-16   1.000285    5.036296e+10      7.489176e+09\n",
       "77   usd-coin  2022-11-01   0.999732    4.340496e+10      5.242404e+09\n",
       "250  usd-coin  2023-04-23   1.001342    3.080082e+10      3.156943e+09"
      ]
     },
     "execution_count": 446,
     "metadata": {},
     "output_type": "execute_result"
    }
   ],
   "source": [
    "#Creación DataFrame\n",
    "gcmcrange=get_coin_market_chart_range_by_id('usd-coin','usd','1660539600','1692079200')\n",
    "df_usd_coin_market=pd.DataFrame(gcmcrange)\n",
    "#Extracción Fechas:\n",
    "df_usd_coin_market['fechas'] = df_usd_coin_market['prices'].apply(extract_unix_timestamp)\n",
    "#Remove Unix Time\n",
    "for i in df_usd_coin_market:\n",
    "    df_usd_coin_market[i+'new'] = df_usd_coin_market[i].apply(remove_unix_timestamp)\n",
    "\n",
    "columnas_a_eliminar = ['prices', 'market_caps','total_volumes','fechasnew']\n",
    "df_usd_coin_market=df_usd_coin_market.drop(columns= columnas_a_eliminar)\n",
    "#Agregando Columna con ID \n",
    "df_usd_coin_market.insert(0, 'Cripto', 'usd-coin')\n",
    "df_usd_coin_market.sample(3)"
   ]
  },
  {
   "cell_type": "markdown",
   "metadata": {},
   "source": [
    "UNION DATOS"
   ]
  },
  {
   "cell_type": "code",
   "execution_count": 452,
   "metadata": {},
   "outputs": [],
   "source": [
    "# Lista de DataFrames a agregar\n",
    "dataframes = [df_bitcoin_market,df_binancecoin_market, df_cardano_market,df_dai_market,df_ethereum_market,\n",
    "              df_leo_token_market,df_solana_market,df_tether_market,df_uniswap_market,\n",
    "              df_usd_coin_market]\n",
    "\n",
    "df_concatenated = pd.concat(dataframes, ignore_index=True)"
   ]
  },
  {
   "cell_type": "code",
   "execution_count": 465,
   "metadata": {},
   "outputs": [],
   "source": [
    "df_concatenated.to_csv('price_market_cap_total_volum.csv')"
   ]
  },
  {
   "cell_type": "markdown",
   "metadata": {},
   "source": [
    "OTROS"
   ]
  },
  {
   "cell_type": "code",
   "execution_count": null,
   "metadata": {},
   "outputs": [],
   "source": [
    "#Obtenga el precio actual de cualquier criptomoneda en cualquier otra moneda admitida \n",
    "#que necesite.\n",
    "def get_prices(coin_ids: str, vs_currencies: str):\n",
    "    prices = cg.get_price(\n",
    "        ids=coin_ids,\n",
    "        vs_currencies=vs_currencies\n",
    "    )\n",
    "    return prices"
   ]
  },
  {
   "cell_type": "code",
   "execution_count": null,
   "metadata": {},
   "outputs": [],
   "source": [
    "#Se pasan los id\n",
    "id_cripto = criptos['id'].tolist()\n",
    "getprices=get_prices(id_cripto,'usd,mxn')\n",
    "dfgetprices=pd.DataFrame(getprices)\n",
    "dfgetprices"
   ]
  },
  {
   "cell_type": "code",
   "execution_count": null,
   "metadata": {},
   "outputs": [],
   "source": [
    "#Incluyendo más valores actuales:\n",
    "getpricesfull=cg.get_price(ids=id_cripto, vs_currencies='usd,mxn', include_market_cap='true', include_24hr_vol='true', include_24hr_change='true', include_last_updated_at='true')\n",
    "dfgetpricesfull=pd.DataFrame(getpricesfull)\n",
    "dfgetpricesfull"
   ]
  },
  {
   "cell_type": "code",
   "execution_count": 15,
   "metadata": {},
   "outputs": [],
   "source": [
    "def get_coins_markets(vs_currency: str):\n",
    "    return cg.get_coins_markets(vs_currency)"
   ]
  },
  {
   "cell_type": "code",
   "execution_count": 31,
   "metadata": {},
   "outputs": [],
   "source": [
    "def get_coin_by_id(id: str):\n",
    "    return cg.get_coin_by_id(id)"
   ]
  },
  {
   "cell_type": "code",
   "execution_count": null,
   "metadata": {},
   "outputs": [],
   "source": [
    "get_coin_by_id('')"
   ]
  },
  {
   "cell_type": "code",
   "execution_count": null,
   "metadata": {},
   "outputs": [],
   "source": [
    "def get_coin_ohlc_by_id(id: str, vs_curreny: str, days:str):\n",
    "    \"\"\"\n",
    "        Example response:\n",
    "        \t\n",
    "        successful operation\n",
    "\n",
    "        [\n",
    "            1594382400000 (time),\n",
    "            1.1 (open),\n",
    "            2.2 (high),\n",
    "            3.3 (low),\n",
    "            4.4 (close)\n",
    "        ]\n",
    "    \"\"\"\n",
    "    return cg.get_coin_ohlc_by_id(id, vs_curreny, days)"
   ]
  },
  {
   "cell_type": "code",
   "execution_count": null,
   "metadata": {},
   "outputs": [],
   "source": [
    "def get_global_data(descentralized=False):\n",
    "\n",
    "    if descentralized:\n",
    "        return cg.get_global_decentralized_finance_defi()\n",
    "    \n",
    "    return cg.get_global()"
   ]
  },
  {
   "cell_type": "code",
   "execution_count": null,
   "metadata": {},
   "outputs": [],
   "source": [
    "def get_asset_platforms():\n",
    "    return cg.get_search_trending()\n",
    "()\n",
    "\n",
    "get_asset_platforms()"
   ]
  },
  {
   "cell_type": "code",
   "execution_count": 12,
   "metadata": {},
   "outputs": [
    {
     "data": {
      "text/html": [
       "<div>\n",
       "<style scoped>\n",
       "    .dataframe tbody tr th:only-of-type {\n",
       "        vertical-align: middle;\n",
       "    }\n",
       "\n",
       "    .dataframe tbody tr th {\n",
       "        vertical-align: top;\n",
       "    }\n",
       "\n",
       "    .dataframe thead th {\n",
       "        text-align: right;\n",
       "    }\n",
       "</style>\n",
       "<table border=\"1\" class=\"dataframe\">\n",
       "  <thead>\n",
       "    <tr style=\"text-align: right;\">\n",
       "      <th></th>\n",
       "      <th>bitcoin</th>\n",
       "      <th>ethereum</th>\n",
       "      <th>solana</th>\n",
       "    </tr>\n",
       "  </thead>\n",
       "  <tbody>\n",
       "    <tr>\n",
       "      <th>usd</th>\n",
       "      <td>29144</td>\n",
       "      <td>1822.76</td>\n",
       "      <td>24.08</td>\n",
       "    </tr>\n",
       "    <tr>\n",
       "      <th>eur</th>\n",
       "      <td>26728</td>\n",
       "      <td>1671.68</td>\n",
       "      <td>22.09</td>\n",
       "    </tr>\n",
       "  </tbody>\n",
       "</table>\n",
       "</div>"
      ],
      "text/plain": [
       "     bitcoin  ethereum  solana\n",
       "usd    29144   1822.76   24.08\n",
       "eur    26728   1671.68   22.09"
      ]
     },
     "execution_count": 12,
     "metadata": {},
     "output_type": "execute_result"
    }
   ],
   "source": [
    "df2=pd.DataFrame(df)\n",
    "df2"
   ]
  },
  {
   "cell_type": "code",
   "execution_count": null,
   "metadata": {},
   "outputs": [],
   "source": [
    "response2= requests.get(\"https://api.geckoterminal.com/api/v2/networks\")\n",
    "print(response2)"
   ]
  },
  {
   "cell_type": "code",
   "execution_count": null,
   "metadata": {},
   "outputs": [],
   "source": [
    "response= requests.get(\"https://api.geckoterminal.com/api/v2/networks?page=1' \\\n",
    "  -H 'accept: application/json\")\n",
    "print(response.json())"
   ]
  }
 ],
 "metadata": {
  "kernelspec": {
   "display_name": "Python 3.8.3 ('venv': venv)",
   "language": "python",
   "name": "python3"
  },
  "language_info": {
   "codemirror_mode": {
    "name": "ipython",
    "version": 3
   },
   "file_extension": ".py",
   "mimetype": "text/x-python",
   "name": "python",
   "nbconvert_exporter": "python",
   "pygments_lexer": "ipython3",
   "version": "3.8.3"
  },
  "orig_nbformat": 4,
  "vscode": {
   "interpreter": {
    "hash": "7ab3a6461443f2419a159c3eff15f846ce885656b01420a9c9c217a21138af54"
   }
  }
 },
 "nbformat": 4,
 "nbformat_minor": 2
}
